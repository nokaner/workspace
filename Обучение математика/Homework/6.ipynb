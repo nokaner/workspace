{
 "cells": [
  {
   "cell_type": "markdown",
   "metadata": {},
   "source": [
    "### Задание \n",
    "При фиксированном seed=42 поразбирайтесь и поэкспериментируйте с параметрами алгоритма дифференциальной эволюции: strategy, popsize, tol, mutation, recombination и updating.\n",
    "\n",
    "Постройте графики количества итераций оптимизации функции ackley от значения параметра.\n"
   ]
  },
  {
   "cell_type": "code",
   "execution_count": 4,
   "metadata": {},
   "outputs": [],
   "source": [
    "import numpy as np\n",
    "from scipy.optimize import differential_evolution"
   ]
  },
  {
   "cell_type": "code",
   "execution_count": 37,
   "metadata": {},
   "outputs": [],
   "source": [
    "import matplotlib.pyplot as plt"
   ]
  },
  {
   "cell_type": "code",
   "execution_count": 62,
   "metadata": {},
   "outputs": [],
   "source": [
    "import pandas as pd"
   ]
  },
  {
   "cell_type": "code",
   "execution_count": 5,
   "metadata": {},
   "outputs": [],
   "source": [
    "def ackley(x):\n",
    "    arg1 = -0.2 * np.sqrt(0.5 * (x[0] ** 2 + x[1] ** 2))\n",
    "    arg2 = 0.5 * (np.cos(2. * np.pi * x[0]) + np.cos(2. * np.pi * x[1]))\n",
    "    return -20. * np.exp(arg1) - np.exp(arg2) + 20. + np.e\n",
    "\n",
    "bounds = [(-10, 10), (-10, 10)]"
   ]
  },
  {
   "cell_type": "markdown",
   "metadata": {},
   "source": [
    "#### strategy"
   ]
  },
  {
   "cell_type": "code",
   "execution_count": 90,
   "metadata": {},
   "outputs": [
    {
     "data": {
      "text/plain": [
       "     fun: 4.440892098500626e-16\n",
       " message: 'Optimization terminated successfully.'\n",
       "    nfev: 4503\n",
       "     nit: 147\n",
       " success: True\n",
       "       x: array([0., 0.])"
      ]
     },
     "execution_count": 90,
     "metadata": {},
     "output_type": "execute_result"
    }
   ],
   "source": [
    "res = differential_evolution(ackley, bounds, seed=42, strategy= 'best1exp')\n",
    "res"
   ]
  },
  {
   "cell_type": "code",
   "execution_count": 91,
   "metadata": {},
   "outputs": [
    {
     "data": {
      "text/plain": [
       "     fun: 4.440892098500626e-16\n",
       " message: 'Optimization terminated successfully.'\n",
       "    nfev: 7473\n",
       "     nit: 246\n",
       " success: True\n",
       "       x: array([0., 0.])"
      ]
     },
     "execution_count": 91,
     "metadata": {},
     "output_type": "execute_result"
    }
   ],
   "source": [
    "res1 = differential_evolution(ackley, bounds, seed=42, strategy= 'rand1exp')\n",
    "res1"
   ]
  },
  {
   "cell_type": "code",
   "execution_count": 92,
   "metadata": {},
   "outputs": [
    {
     "data": {
      "text/plain": [
       "     fun: 4.440892098500626e-16\n",
       " message: 'Optimization terminated successfully.'\n",
       "    nfev: 4773\n",
       "     nit: 156\n",
       " success: True\n",
       "       x: array([0., 0.])"
      ]
     },
     "execution_count": 92,
     "metadata": {},
     "output_type": "execute_result"
    }
   ],
   "source": [
    "res2 = differential_evolution(ackley, bounds, seed=42, strategy= 'randtobest1exp')\n",
    "res2"
   ]
  },
  {
   "cell_type": "code",
   "execution_count": 83,
   "metadata": {},
   "outputs": [
    {
     "data": {
      "text/plain": [
       "<AxesSubplot:xlabel='strategy', ylabel='qty_itr'>"
      ]
     },
     "execution_count": 83,
     "metadata": {},
     "output_type": "execute_result"
    },
    {
     "data": {
      "image/png": "[encoded data removed]",
      "text/plain": [
       "<Figure size 432x288 with 1 Axes>"
      ]
     },
     "metadata": {
      "needs_background": "light"
     },
     "output_type": "display_data"
    }
   ],
   "source": [
    "df_strategy = pd.DataFrame({'strategy' : ['best1exp', 'rand1exp', 'randtobest1exp'], 'qty_itr' : [res.nit, res1.nit, res2.nit]}).set_index(\"strategy\")\n",
    "df_strategy.plot(kind='bar', \n",
    "                     xlabel='strategy',\n",
    "                     ylabel='qty_itr')"
   ]
  },
  {
   "cell_type": "markdown",
   "metadata": {},
   "source": [
    "#### popsize"
   ]
  },
  {
   "cell_type": "code",
   "execution_count": 87,
   "metadata": {},
   "outputs": [
    {
     "data": {
      "text/plain": [
       "     fun: 2.5799275570299973\n",
       "     jac: array([-2.48689958e-06, -1.77635683e-06])\n",
       " message: 'Optimization terminated successfully.'\n",
       "    nfev: 136\n",
       "     nit: 22\n",
       " success: True\n",
       "       x: array([-5.38718981e-08, -9.52166590e-01])"
      ]
     },
     "execution_count": 87,
     "metadata": {},
     "output_type": "execute_result"
    }
   ],
   "source": [
    "differential_evolution(ackley, bounds, seed=42, strategy= 'best1exp', popsize = 1)"
   ]
  },
  {
   "cell_type": "code",
   "execution_count": 12,
   "metadata": {},
   "outputs": [
    {
     "data": {
      "text/plain": [
       "     fun: 4.440892098500626e-16\n",
       " message: 'Optimization terminated successfully.'\n",
       "    nfev: 29263\n",
       "     nit: 145\n",
       " success: True\n",
       "       x: array([0., 0.])"
      ]
     },
     "execution_count": 12,
     "metadata": {},
     "output_type": "execute_result"
    }
   ],
   "source": [
    "differential_evolution(ackley, bounds, seed=42, strategy= 'best1exp', popsize = 100)"
   ]
  },
  {
   "cell_type": "code",
   "execution_count": 93,
   "metadata": {},
   "outputs": [
    {
     "data": {
      "text/plain": [
       "     fun: 4.440892098500626e-16\n",
       " message: 'Optimization terminated successfully.'\n",
       "    nfev: 148063\n",
       "     nit: 147\n",
       " success: True\n",
       "       x: array([0., 0.])"
      ]
     },
     "execution_count": 93,
     "metadata": {},
     "output_type": "execute_result"
    }
   ],
   "source": [
    "differential_evolution(ackley, bounds, seed=42, strategy= 'best1exp', popsize = 500)"
   ]
  },
  {
   "cell_type": "code",
   "execution_count": 89,
   "metadata": {},
   "outputs": [
    {
     "data": {
      "text/plain": [
       "<AxesSubplot:xlabel='popsize', ylabel='qty_itr'>"
      ]
     },
     "execution_count": 89,
     "metadata": {},
     "output_type": "execute_result"
    },
    {
     "data": {
      "image/png": "[encoded data removed]",
      "text/plain": [
       "<Figure size 432x288 with 1 Axes>"
      ]
     },
     "metadata": {
      "needs_background": "light"
     },
     "output_type": "display_data"
    }
   ],
   "source": [
    "df_popsize = pd.DataFrame({'popsize' : ['1', '100', '500'], 'qty_itr' : [differential_evolution(ackley, bounds, seed=42, strategy= 'best1exp', popsize = 1).nit, differential_evolution(ackley, bounds, seed=42, strategy= 'best1exp', popsize = 100).nit, differential_evolution(ackley, bounds, seed=42, strategy= 'best1exp', popsize = 500).nit]}).set_index(\"popsize\")\n",
    "df_popsize.plot(kind='bar', \n",
    "                     xlabel='popsize',\n",
    "                     ylabel='qty_itr')"
   ]
  },
  {
   "cell_type": "markdown",
   "metadata": {},
   "source": [
    "#### tol"
   ]
  },
  {
   "cell_type": "code",
   "execution_count": 14,
   "metadata": {},
   "outputs": [
    {
     "data": {
      "text/plain": [
       "     fun: 3.5744518772578613\n",
       "     jac: array([-1.06581410e-06,  4.26325639e-06])\n",
       " message: 'Optimization terminated successfully.'\n",
       "    nfev: 96\n",
       "     nit: 1\n",
       " success: True\n",
       "       x: array([ 0.96847763, -0.96847758])"
      ]
     },
     "execution_count": 14,
     "metadata": {},
     "output_type": "execute_result"
    }
   ],
   "source": [
    "differential_evolution(ackley, bounds, seed=42, strategy= 'best1exp', tol = 1)"
   ]
  },
  {
   "cell_type": "code",
   "execution_count": 16,
   "metadata": {},
   "outputs": [
    {
     "data": {
      "text/plain": [
       "     fun: 4.440892098500626e-16\n",
       " message: 'Optimization terminated successfully.'\n",
       "    nfev: 4503\n",
       "     nit: 147\n",
       " success: True\n",
       "       x: array([0., 0.])"
      ]
     },
     "execution_count": 16,
     "metadata": {},
     "output_type": "execute_result"
    }
   ],
   "source": [
    "differential_evolution(ackley, bounds, seed=42, strategy= 'best1exp', tol = 0)"
   ]
  },
  {
   "cell_type": "code",
   "execution_count": 96,
   "metadata": {},
   "outputs": [
    {
     "data": {
      "text/plain": [
       "<AxesSubplot:xlabel='tol', ylabel='qty_itr'>"
      ]
     },
     "execution_count": 96,
     "metadata": {},
     "output_type": "execute_result"
    },
    {
     "data": {
      "image/png": "[encoded data removed]",
      "text/plain": [
       "<Figure size 432x288 with 1 Axes>"
      ]
     },
     "metadata": {
      "needs_background": "light"
     },
     "output_type": "display_data"
    }
   ],
   "source": [
    "df_tol = pd.DataFrame({'tol' : ['0', '1'], 'qty_itr' : [differential_evolution(ackley, bounds, seed=42, strategy= 'best1exp', tol = 0).nit, differential_evolution(ackley, bounds, seed=42, strategy= 'best1exp', tol = 1).nit]}).set_index(\"tol\")\n",
    "df_tol.plot(kind='bar', \n",
    "                     xlabel='tol',\n",
    "                     ylabel='qty_itr')"
   ]
  },
  {
   "cell_type": "markdown",
   "metadata": {},
   "source": [
    "#### mutation"
   ]
  },
  {
   "cell_type": "code",
   "execution_count": 21,
   "metadata": {},
   "outputs": [
    {
     "data": {
      "text/plain": [
       "     fun: 3.5744518772578613\n",
       "     jac: array([-1.06581410e-06,  4.26325639e-06])\n",
       " message: 'Optimization terminated successfully.'\n",
       "    nfev: 186\n",
       "     nit: 4\n",
       " success: True\n",
       "       x: array([ 0.96847763, -0.96847758])"
      ]
     },
     "execution_count": 21,
     "metadata": {},
     "output_type": "execute_result"
    }
   ],
   "source": [
    "differential_evolution(ackley, bounds, seed=42, strategy= 'best1exp', mutation = 0)"
   ]
  },
  {
   "cell_type": "code",
   "execution_count": 23,
   "metadata": {},
   "outputs": [
    {
     "data": {
      "text/plain": [
       "     fun: 6.566181134504134e-05\n",
       " message: 'Optimization terminated successfully.'\n",
       "    nfev: 6006\n",
       "     nit: 193\n",
       " success: True\n",
       "       x: array([-2.32097494e-05, -7.91650412e-08])"
      ]
     },
     "execution_count": 23,
     "metadata": {},
     "output_type": "execute_result"
    }
   ],
   "source": [
    "differential_evolution(ackley, bounds, seed=42, strategy= 'best1exp', mutation = 1.9)"
   ]
  },
  {
   "cell_type": "code",
   "execution_count": 25,
   "metadata": {},
   "outputs": [
    {
     "data": {
      "text/plain": [
       "     fun: 2.579927557029873\n",
       "     jac: array([0., 0.])\n",
       " message: 'Optimization terminated successfully.'\n",
       "    nfev: 435\n",
       "     nit: 13\n",
       " success: True\n",
       "       x: array([ 9.52166542e-01, -6.70789502e-09])"
      ]
     },
     "execution_count": 25,
     "metadata": {},
     "output_type": "execute_result"
    }
   ],
   "source": [
    "differential_evolution(ackley, bounds, seed=42, strategy= 'best1exp', mutation = (0, 1.5))"
   ]
  },
  {
   "cell_type": "code",
   "execution_count": 97,
   "metadata": {},
   "outputs": [
    {
     "data": {
      "text/plain": [
       "<AxesSubplot:xlabel='mutation', ylabel='qty_itr'>"
      ]
     },
     "execution_count": 97,
     "metadata": {},
     "output_type": "execute_result"
    },
    {
     "data": {
      "image/png": "[encoded data removed]",
      "text/plain": [
       "<Figure size 432x288 with 1 Axes>"
      ]
     },
     "metadata": {
      "needs_background": "light"
     },
     "output_type": "display_data"
    }
   ],
   "source": [
    "df_mutation = pd.DataFrame({'mutation' : ['0', '1.9', '(0, 1.5)'], 'qty_itr' : [differential_evolution(ackley, bounds, seed=42, strategy= 'best1exp', mutation = 0).nit, differential_evolution(ackley, bounds, seed=42, strategy= 'best1exp', mutation = 1.9).nit, differential_evolution(ackley, bounds, seed=42, strategy= 'best1exp', mutation = (0, 1.5)).nit]}).set_index(\"mutation\")\n",
    "df_mutation.plot(kind='bar', \n",
    "                     xlabel='mutation',\n",
    "                     ylabel='qty_itr')"
   ]
  },
  {
   "cell_type": "markdown",
   "metadata": {},
   "source": [
    "#### recombination"
   ]
  },
  {
   "cell_type": "code",
   "execution_count": 31,
   "metadata": {},
   "outputs": [
    {
     "data": {
      "text/plain": [
       "     fun: 4.440892098500626e-16\n",
       " message: 'Optimization terminated successfully.'\n",
       "    nfev: 12333\n",
       "     nit: 408\n",
       " success: True\n",
       "       x: array([0., 0.])"
      ]
     },
     "execution_count": 31,
     "metadata": {},
     "output_type": "execute_result"
    }
   ],
   "source": [
    "differential_evolution(ackley, bounds, seed=42, strategy= 'best1exp', recombination = 0.3)"
   ]
  },
  {
   "cell_type": "code",
   "execution_count": 27,
   "metadata": {},
   "outputs": [
    {
     "data": {
      "text/plain": [
       "     fun: 4.440892098500626e-16\n",
       " message: 'Optimization terminated successfully.'\n",
       "    nfev: 7023\n",
       "     nit: 231\n",
       " success: True\n",
       "       x: array([0., 0.])"
      ]
     },
     "execution_count": 27,
     "metadata": {},
     "output_type": "execute_result"
    }
   ],
   "source": [
    "differential_evolution(ackley, bounds, seed=42, strategy= 'best1exp', recombination = 0.5)"
   ]
  },
  {
   "cell_type": "code",
   "execution_count": 28,
   "metadata": {},
   "outputs": [
    {
     "data": {
      "text/plain": [
       "     fun: 4.440892098500626e-16\n",
       " message: 'Optimization terminated successfully.'\n",
       "    nfev: 2553\n",
       "     nit: 82\n",
       " success: True\n",
       "       x: array([0., 0.])"
      ]
     },
     "execution_count": 28,
     "metadata": {},
     "output_type": "execute_result"
    }
   ],
   "source": [
    "differential_evolution(ackley, bounds, seed=42, strategy= 'best1exp', recombination = 1)"
   ]
  },
  {
   "cell_type": "code",
   "execution_count": 98,
   "metadata": {},
   "outputs": [
    {
     "data": {
      "text/plain": [
       "<AxesSubplot:xlabel='recombination', ylabel='qty_itr'>"
      ]
     },
     "execution_count": 98,
     "metadata": {},
     "output_type": "execute_result"
    },
    {
     "data": {
      "image/png": "[encoded data removed]",
      "text/plain": [
       "<Figure size 432x288 with 1 Axes>"
      ]
     },
     "metadata": {
      "needs_background": "light"
     },
     "output_type": "display_data"
    }
   ],
   "source": [
    "df_recombination = pd.DataFrame({'recombination' : ['0.3', '0.5', '1'], 'qty_itr' : [differential_evolution(ackley, bounds, seed=42, strategy= 'best1exp', recombination = 0.3).nit, \n",
    "                                                                                     differential_evolution(ackley, bounds, seed=42, strategy= 'best1exp', recombination = 0.5).nit, \n",
    "                                                                                     differential_evolution(ackley, bounds, seed=42, strategy= 'best1exp', recombination = 1).nit]}).set_index(\"recombination\")\n",
    "df_recombination.plot(kind='bar', \n",
    "                     xlabel='recombination',\n",
    "                     ylabel='qty_itr')"
   ]
  },
  {
   "cell_type": "markdown",
   "metadata": {},
   "source": [
    "#### updating"
   ]
  },
  {
   "cell_type": "code",
   "execution_count": 32,
   "metadata": {},
   "outputs": [
    {
     "data": {
      "text/plain": [
       "     fun: 4.440892098500626e-16\n",
       " message: 'Optimization terminated successfully.'\n",
       "    nfev: 4503\n",
       "     nit: 147\n",
       " success: True\n",
       "       x: array([0., 0.])"
      ]
     },
     "execution_count": 32,
     "metadata": {},
     "output_type": "execute_result"
    }
   ],
   "source": [
    "differential_evolution(ackley, bounds, seed=42, strategy= 'best1exp', updating = 'immediate')"
   ]
  },
  {
   "cell_type": "code",
   "execution_count": 36,
   "metadata": {},
   "outputs": [
    {
     "data": {
      "text/plain": [
       "     fun: 4.440892098500626e-16\n",
       " message: 'Optimization terminated successfully.'\n",
       "    nfev: 4983\n",
       "     nit: 163\n",
       " success: True\n",
       "       x: array([0., 0.])"
      ]
     },
     "execution_count": 36,
     "metadata": {},
     "output_type": "execute_result"
    }
   ],
   "source": [
    "differential_evolution(ackley, bounds, seed=42, strategy= 'best1exp', updating = 'deferred')\n"
   ]
  },
  {
   "cell_type": "code",
   "execution_count": 99,
   "metadata": {},
   "outputs": [
    {
     "data": {
      "text/plain": [
       "<AxesSubplot:xlabel='updating', ylabel='qty_itr'>"
      ]
     },
     "execution_count": 99,
     "metadata": {},
     "output_type": "execute_result"
    },
    {
     "data": {
      "image/png": "[encoded data removed]",
      "text/plain": [
       "<Figure size 432x288 with 1 Axes>"
      ]
     },
     "metadata": {
      "needs_background": "light"
     },
     "output_type": "display_data"
    }
   ],
   "source": [
    "df_updating = pd.DataFrame({'updating' : ['immediate', 'deferred'], 'qty_itr' : [differential_evolution(ackley, bounds, seed=42, strategy= 'best1exp', updating = 'immediate').nit, \n",
    "                                                                                     differential_evolution(ackley, bounds, seed=42, strategy= 'best1exp', updating = 'deferred').nit, \n",
    "                                                                                     ]}).set_index(\"updating\")\n",
    "df_updating.plot(kind='bar', \n",
    "                     xlabel='updating',\n",
    "                     ylabel='qty_itr')"
   ]
  }
 ],
 "metadata": {
  "kernelspec": {
   "display_name": "Python 3",
   "language": "python",
   "name": "python3"
  },
  "language_info": {
   "codemirror_mode": {
    "name": "ipython",
    "version": 3
   },
   "file_extension": ".py",
   "mimetype": "text/x-python",
   "name": "python",
   "nbconvert_exporter": "python",
   "pygments_lexer": "ipython3",
   "version": "3.8.5"
  }
 },
 "nbformat": 4,
 "nbformat_minor": 4
}
