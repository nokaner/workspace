{
 "cells": [
  {
   "cell_type": "markdown",
   "id": "fa7f4288",
   "metadata": {},
   "source": [
    "### Уровень 0:\n",
    "Посчитайте частные производные функций"
   ]
  },
  {
   "cell_type": "code",
   "execution_count": 1,
   "id": "bf32e370",
   "metadata": {},
   "outputs": [],
   "source": [
    "import numpy as np\n",
    "from scipy.optimize import approx_fprime"
   ]
  },
  {
   "cell_type": "markdown",
   "id": "4a6c7968",
   "metadata": {},
   "source": [
    "1"
   ]
  },
  {
   "cell_type": "code",
   "execution_count": 16,
   "id": "f065731c",
   "metadata": {},
   "outputs": [],
   "source": [
    "# частное производное \"х\":\n",
    "# 4*x*y**3+y**2+1/x**2"
   ]
  },
  {
   "cell_type": "code",
   "execution_count": 17,
   "id": "aaec7248",
   "metadata": {},
   "outputs": [],
   "source": [
    "# частное производное \"y\":\n",
    "# 6*x**2*y**2+2*x*y"
   ]
  },
  {
   "cell_type": "code",
   "execution_count": 6,
   "id": "ffa51e82",
   "metadata": {},
   "outputs": [],
   "source": [
    "def f1(x, c0, c1, c2):\n",
    "    return c0*x[0]**2*x[1]**3+c1/x[0]+x[1]**2*x[0]+c2"
   ]
  },
  {
   "cell_type": "code",
   "execution_count": 13,
   "id": "f93ce73f",
   "metadata": {},
   "outputs": [
    {
     "data": {
      "text/plain": [
       "array([35.00000024, 28.00000024])"
      ]
     },
     "execution_count": 13,
     "metadata": {},
     "output_type": "execute_result"
    }
   ],
   "source": [
    "# градиент функции\n",
    "x = np.array([1, 2])\n",
    "c0, c1, c2 = (2, 1, 7)\n",
    "eps = np . sqrt(np.finfo(float).eps)\n",
    "approx_fprime(x, f1, [eps, eps], c0, c1, c2)"
   ]
  },
  {
   "cell_type": "markdown",
   "id": "89757aac",
   "metadata": {},
   "source": [
    "2"
   ]
  },
  {
   "cell_type": "code",
   "execution_count": 18,
   "id": "d13288a4",
   "metadata": {},
   "outputs": [],
   "source": [
    "# частное производное \"х\":\n",
    "# 2*x*y**2-2*x*sin(x**2)-y*cos(x*y)"
   ]
  },
  {
   "cell_type": "code",
   "execution_count": 19,
   "id": "6d3538dc",
   "metadata": {},
   "outputs": [],
   "source": [
    "# частное производное \"y\":\n",
    "# 2*x**2*y-x*cos(x*y)+6"
   ]
  }
 ],
 "metadata": {
  "kernelspec": {
   "display_name": "Python 3",
   "language": "python",
   "name": "python3"
  },
  "language_info": {
   "codemirror_mode": {
    "name": "ipython",
    "version": 3
   },
   "file_extension": ".py",
   "mimetype": "text/x-python",
   "name": "python",
   "nbconvert_exporter": "python",
   "pygments_lexer": "ipython3",
   "version": "3.8.8"
  }
 },
 "nbformat": 4,
 "nbformat_minor": 5
}
