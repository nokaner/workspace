{
 "cells": [
  {
   "cell_type": "markdown",
   "id": "279ade0d",
   "metadata": {},
   "source": [
    "### Уровень 0:\n",
    "Посчитайте значение первой и второй производной функции:"
   ]
  },
  {
   "cell_type": "code",
   "execution_count": 1,
   "id": "a8f80e04",
   "metadata": {},
   "outputs": [],
   "source": [
    "import numpy as np\n",
    "import sympy\n",
    "from scipy.misc import derivative"
   ]
  },
  {
   "cell_type": "code",
   "execution_count": 3,
   "id": "0b33a924",
   "metadata": {},
   "outputs": [],
   "source": [
    "def f(x):\n",
    "    return x**5+4*np.sin(2*x)+np.cos(3*x+3)\n"
   ]
  },
  {
   "cell_type": "code",
   "execution_count": 6,
   "id": "1595d928",
   "metadata": {},
   "outputs": [
    {
     "data": {
      "text/plain": [
       "2.509071801881646"
      ]
     },
     "execution_count": 6,
     "metadata": {},
     "output_type": "execute_result"
    }
   ],
   "source": [
    "# первая производная\n",
    "derivative(f, 1.0, dx=1e-6, n=1)"
   ]
  },
  {
   "cell_type": "code",
   "execution_count": 8,
   "id": "a04cc64e",
   "metadata": {},
   "outputs": [],
   "source": [
    "x = 1"
   ]
  },
  {
   "cell_type": "code",
   "execution_count": 10,
   "id": "39387cff",
   "metadata": {},
   "outputs": [
    {
     "data": {
      "text/plain": [
       "2.5090718022196383"
      ]
     },
     "execution_count": 10,
     "metadata": {},
     "output_type": "execute_result"
    }
   ],
   "source": [
    "5*x**4-3*np.sin(3*x+3)+8*np.cos(2*x)"
   ]
  },
  {
   "cell_type": "code",
   "execution_count": 11,
   "id": "cabbe4b9",
   "metadata": {},
   "outputs": [
    {
     "data": {
      "text/plain": [
       "-3.19033688356285"
      ]
     },
     "execution_count": 11,
     "metadata": {},
     "output_type": "execute_result"
    }
   ],
   "source": [
    "# вторая производная\n",
    "derivative(f, 1.0, dx=1e-6, n=2)"
   ]
  },
  {
   "cell_type": "code",
   "execution_count": 12,
   "id": "13ca9654",
   "metadata": {},
   "outputs": [
    {
     "data": {
      "text/plain": [
       "-3.1902914090642014"
      ]
     },
     "execution_count": 12,
     "metadata": {},
     "output_type": "execute_result"
    }
   ],
   "source": [
    "20*x**3 - 16*np.sin(2*x) - 9*np.cos(3*(1 + x))"
   ]
  }
 ],
 "metadata": {
  "kernelspec": {
   "display_name": "Python 3",
   "language": "python",
   "name": "python3"
  },
  "language_info": {
   "codemirror_mode": {
    "name": "ipython",
    "version": 3
   },
   "file_extension": ".py",
   "mimetype": "text/x-python",
   "name": "python",
   "nbconvert_exporter": "python",
   "pygments_lexer": "ipython3",
   "version": "3.8.8"
  }
 },
 "nbformat": 4,
 "nbformat_minor": 5
}
