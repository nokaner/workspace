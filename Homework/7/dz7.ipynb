{
 "cells": [
  {
   "cell_type": "markdown",
   "metadata": {},
   "source": [
    "### Задание 1"
   ]
  },
  {
   "cell_type": "code",
   "execution_count": 205,
   "metadata": {},
   "outputs": [],
   "source": [
    "import requests"
   ]
  },
  {
   "cell_type": "code",
   "execution_count": 206,
   "metadata": {},
   "outputs": [],
   "source": [
    "s = requests.get('https://www.cbr-xml-daily.ru/daily_json.js')\n",
    "\n",
    "def valute_max():\n",
    "    for money in s.json()['Valute'].values():\n",
    "        if  money['Value']> money['Previous']:\n",
    "            print (money['Name'],'-', money['Value'])\n",
    "        else: print (money['Name'],'-', money['Previous'])"
   ]
  },
  {
   "cell_type": "code",
   "execution_count": 207,
   "metadata": {},
   "outputs": [
    {
     "name": "stdout",
     "output_type": "stream",
     "text": [
      "Австралийский доллар - 57.1983\n",
      "Азербайджанский манат - 43.5184\n",
      "Фунт стерлингов Соединенного королевства - 101.9824\n",
      "Армянских драмов - 14.1089\n",
      "Белорусский рубль - 28.6483\n",
      "Болгарский лев - 45.7734\n",
      "Бразильский реал - 13.7769\n",
      "Венгерских форинтов - 25.08\n",
      "Гонконгских долларов - 95.3655\n",
      "Датская крона - 12.0377\n",
      "Доллар США - 73.9378\n",
      "Евро - 89.6052\n",
      "Индийских рупий - 10.1565\n",
      "Казахстанских тенге - 17.6564\n",
      "Канадский доллар - 58.1412\n",
      "Киргизских сомов - 87.7942\n",
      "Китайский юань - 11.4487\n",
      "Молдавских леев - 42.443\n",
      "Норвежских крон - 87.1523\n",
      "Польский злотый - 19.8784\n",
      "Румынский лей - 18.3623\n",
      "СДР (специальные права заимствования) - 106.6479\n",
      "Сингапурский доллар - 55.7012\n",
      "Таджикских сомони - 64.8862\n",
      "Турецкая лира - 10.5161\n",
      "Новый туркменский манат - 21.1553\n",
      "Узбекских сумов - 70.211\n",
      "Украинских гривен - 26.5653\n",
      "Чешских крон - 34.7967\n",
      "Шведских крон - 88.6874\n",
      "Швейцарский франк - 82.955\n",
      "Южноафриканских рэндов - 50.367\n",
      "Вон Республики Корея - 66.9051\n",
      "Японских иен - 70.4772\n"
     ]
    }
   ],
   "source": [
    "valute_max()"
   ]
  },
  {
   "cell_type": "markdown",
   "metadata": {},
   "source": [
    "### Задание 2"
   ]
  },
  {
   "cell_type": "code",
   "execution_count": 120,
   "metadata": {},
   "outputs": [],
   "source": [
    "class Rate:\n",
    "    def __init__(self, format_='value', difference='true'):\n",
    "        self.format = format_\n",
    "        self.dif = difference\n",
    "    \n",
    "    def exchange_rates(self):\n",
    "\n",
    "        self.r = requests.get('https://www.cbr-xml-daily.ru/daily_json.js')\n",
    "        return self.r.json()['Valute']\n",
    "    \n",
    "    def make_format(self, currency):\n",
    "\n",
    "        response = self.exchange_rates()\n",
    "        \n",
    "        if currency in response:\n",
    "            if self.format == 'full':\n",
    "                return response[currency]\n",
    "            \n",
    "            if self.format == 'value' and self.dif == 'false':\n",
    "                return response[currency]['Value']\n",
    "            \n",
    "            if self.format == 'value' and self.dif == 'true':\n",
    "                return response[currency]['Value']-response[currency]['Previous'] \n",
    "            \n",
    "        \n",
    "        return 'Error'\n",
    "    \n",
    "    def eur(self):\n",
    "        \"\"\"Возвращает курс евро на сегодня в формате self.format\"\"\"\n",
    "        return self.make_format('EUR')\n",
    "    \n",
    "    def usd(self):\n",
    "        \"\"\"Возвращает курс доллара на сегодня в формате self.format\"\"\"\n",
    "        return self.make_format('USD')\n",
    "    \n",
    "    def brl(self):\n",
    "        \"\"\"Возвращает курс бразильского реала на сегодня в формате self.format\"\"\"\n",
    "        return self.make_format('BRL')\n"
   ]
  },
  {
   "cell_type": "code",
   "execution_count": 121,
   "metadata": {},
   "outputs": [],
   "source": [
    "r = Rate(format_='value', difference='true')"
   ]
  },
  {
   "cell_type": "code",
   "execution_count": 122,
   "metadata": {},
   "outputs": [
    {
     "data": {
      "text/plain": [
       "0.08329999999999949"
      ]
     },
     "execution_count": 122,
     "metadata": {},
     "output_type": "execute_result"
    }
   ],
   "source": [
    "r.brl()"
   ]
  },
  {
   "cell_type": "markdown",
   "metadata": {},
   "source": [
    "### Задание 3"
   ]
  },
  {
   "cell_type": "code",
   "execution_count": 124,
   "metadata": {},
   "outputs": [],
   "source": [
    "class Employee:\n",
    "    def __init__(self, name, seniority):\n",
    "        self.name = name\n",
    "        self.seniority = seniority\n",
    "        \n",
    "        self.grade = 1\n",
    "    \n",
    "    def grade_up(self):\n",
    "        \"\"\"Повышает уровень сотрудника\"\"\"\n",
    "        self.grade += 1\n",
    "    \n",
    "    def publish_grade(self):\n",
    "        \"\"\"Публикация результатов аккредитации сотрудников\"\"\"\n",
    "        print(self.name, self.grade)\n",
    "    \n",
    "    def check_if_it_is_time_for_upgrade(self):\n",
    "        pass"
   ]
  },
  {
   "cell_type": "code",
   "execution_count": 209,
   "metadata": {},
   "outputs": [],
   "source": [
    "class Designer(Employee):\n",
    "    def __init__(self, name, seniority, awards=2):\n",
    "        super().__init__(name, seniority)\n",
    "        self.awards = awards\n",
    "        self.qty_point = self.seniority+(awards*2)\n",
    "    def check_if_it_is_time_for_upgrade(self):\n",
    "      \n",
    "        # для каждой аккредитации увеличиваем счетчик на 1\n",
    "        self.qty_point += 1\n",
    "#         print(f'qty = {self.qty_point}')\n",
    "        # условие повышения сотрудника из презентации\n",
    "        if self.qty_point % 7 == 0:\n",
    "            self.grade_up()\n",
    "        \n",
    "        # публикация результатов\n",
    "        return self.publish_grade()"
   ]
  },
  {
   "cell_type": "code",
   "execution_count": 210,
   "metadata": {},
   "outputs": [],
   "source": [
    "elena = Designer('Елена', seniority=0, awards=2)"
   ]
  },
  {
   "cell_type": "code",
   "execution_count": 211,
   "metadata": {},
   "outputs": [
    {
     "name": "stdout",
     "output_type": "stream",
     "text": [
      "Елена 1\n",
      "Елена 1\n",
      "Елена 2\n",
      "Елена 2\n",
      "Елена 2\n",
      "Елена 2\n",
      "Елена 2\n",
      "Елена 2\n",
      "Елена 2\n",
      "Елена 3\n",
      "Елена 3\n",
      "Елена 3\n",
      "Елена 3\n",
      "Елена 3\n",
      "Елена 3\n",
      "Елена 3\n",
      "Елена 4\n",
      "Елена 4\n",
      "Елена 4\n",
      "Елена 4\n"
     ]
    }
   ],
   "source": [
    "for i in range(20):\n",
    "    elena.check_if_it_is_time_for_upgrade()"
   ]
  },
  {
   "cell_type": "code",
   "execution_count": null,
   "metadata": {},
   "outputs": [],
   "source": []
  }
 ],
 "metadata": {
  "kernelspec": {
   "display_name": "Python 3",
   "language": "python",
   "name": "python3"
  },
  "language_info": {
   "codemirror_mode": {
    "name": "ipython",
    "version": 3
   },
   "file_extension": ".py",
   "mimetype": "text/x-python",
   "name": "python",
   "nbconvert_exporter": "python",
   "pygments_lexer": "ipython3",
   "version": "3.8.5"
  }
 },
 "nbformat": 4,
 "nbformat_minor": 4
}
