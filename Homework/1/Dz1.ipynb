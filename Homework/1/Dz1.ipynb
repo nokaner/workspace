{
 "cells": [
  {
   "cell_type": "code",
   "execution_count": 25,
   "metadata": {},
   "outputs": [
    {
     "name": "stdout",
     "output_type": "stream",
     "text": [
      "Фраза 1 длиннее фразы 2\n"
     ]
    }
   ],
   "source": [
    "ph1 = 'Никогда не знаешь, где тебе повезет'\n",
    "ph2 = 'Необходимо обновление'\n",
    "if len (ph1)> len (ph2):\n",
    "    print ('Фраза 1 длиннее фразы 2')\n",
    "elif len (ph1)== len (ph2):\n",
    "    print ('Длина фразы 1 равна длине фразе 2')\n",
    "else :\n",
    "    print ('Фраза 2 длиннее фразы 1')"
   ]
  },
  {
   "cell_type": "code",
   "execution_count": 43,
   "metadata": {},
   "outputs": [
    {
     "name": "stdout",
     "output_type": "stream",
     "text": [
      "Обычный год\n"
     ]
    }
   ],
   "source": [
    "y = 1913\n",
    "if y % 4 == 0:\n",
    "    print ('Високосный год')\n",
    "elif y % 100 == 0:\n",
    "    print ('Високосный год')\n",
    "elif y % 100 != 0 and y % 400 == 0:\n",
    "    print ('Високосный год')\n",
    "elif y % 100 != 0 and y % 400 != 0:\n",
    "    print ('Обычный год')"
   ]
  },
  {
   "cell_type": "code",
   "execution_count": 71,
   "metadata": {},
   "outputs": [
    {
     "name": "stdout",
     "output_type": "stream",
     "text": [
      "Введите день: 111\n",
      "Введите месяц: Март\n",
      "Неверные значения введённых данных\n"
     ]
    }
   ],
   "source": [
    "d =  int (input (\"Введите день: \"))\n",
    "m = input (\"Введите месяц: \")\n",
    "if m == 'Март' and  21 <= d <= 31:\n",
    "    print ('Знак зодиака: Овен')\n",
    "elif m == 'Апрель' and  1 <= d <= 19:\n",
    "    print ('Знак зодиака: Овен')\n",
    "elif m == 'Апрель' and  20 <= d <= 30:\n",
    "    print ('Знак зодиака: Телец')\n",
    "elif m == 'Май' and  1 <= d <= 20:\n",
    "    print ('Знак зодиака: Телец')\n",
    "elif m == 'Май' and  21 <= d <= 31:\n",
    "    print ('Знак зодиака: Близнецы')\n",
    "elif m == 'Июнь' and  1 <= d <= 20:\n",
    "    print ('Знак зодиака: Близнецы')\n",
    "elif m == 'Июнь' and  21 <= d <= 30:\n",
    "    print ('Знак зодиака: Рак')\n",
    "elif m == 'Июль' and  1 <= d <= 22:\n",
    "    print ('Знак зодиака: Рак')\n",
    "elif m == 'Июль' and  23 <= d <= 31:\n",
    "    print ('Знак зодиака: Лев')\n",
    "elif m == 'Август' and  1 <= d <= 22:\n",
    "    print ('Знак зодиака: Лев')\n",
    "elif m == 'Август' and  23 <= d <= 31:\n",
    "    print ('Знак зодиака: Дева')\n",
    "elif m == 'Сентябрь' and  1 <= d <= 22:\n",
    "    print ('Знак зодиака: Дева')\n",
    "elif m == 'Сентябрь' and  23 <= d <= 31:\n",
    "    print ('Знак зодиака: Весы')\n",
    "elif m == 'Октябрь' and  1 <= d <= 22:\n",
    "    print ('Знак зодиака: Весы')\n",
    "elif m == 'Октябрь' and  23 <= d <= 31:\n",
    "    print ('Знак зодиака: Скорпион')\n",
    "elif m == 'Ноябрь' and  1 <= d <= 21:\n",
    "    print ('Знак зодиака: Скорпион')\n",
    "elif m == 'Ноябрь' and  22 <= d <= 30:\n",
    "    print ('Знак зодиака: Стрелец')\n",
    "elif m == 'Декабрь' and  1 <= d <= 21:\n",
    "    print ('Знак зодиака: Стрелец')\n",
    "elif m == 'Декабрь' and  22 <= d <= 31:\n",
    "    print ('Знак зодиака: Козерог')\n",
    "elif m == 'Январь' and  1 <= d <= 19:\n",
    "    print ('Знак зодиака: Козерог')\n",
    "elif m == 'Январь' and  20 <= d <= 31:\n",
    "    print ('Знак зодиака: Водолей')\n",
    "elif m == 'Февраль' and  1 <= d <= 18:\n",
    "    print ('Знак зодиака: Водолей')\n",
    "elif m == 'Февраль' and  19 <= d <= 29:\n",
    "    print ('Знак зодиака: Рыбы')\n",
    "elif m == 'Март' and  1 <= d <= 20:\n",
    "    print ('Знак зодиака: Рыбы')\n",
    "else:\n",
    "    print ('Неверные значения введённых данных')"
   ]
  },
  {
   "cell_type": "code",
   "execution_count": 7,
   "metadata": {},
   "outputs": [
    {
     "name": "stdout",
     "output_type": "stream",
     "text": [
      "Введите ширину: 15\n",
      "Введите длину: 15\n",
      "Введите высоту: 15\n",
      "Стандартная коробка №3\n"
     ]
    }
   ],
   "source": [
    "w =  int (input (\"Введите ширину: \"))\n",
    "l =  int (input (\"Введите длину: \"))\n",
    "h =  int (input (\"Введите высоту: \"))\n",
    "if w < 15 and l < 15 and h < 15:\n",
    "    print ('Коробка №1')\n",
    "elif l > 200:\n",
    "    print ('Упаковка для лыж')\n",
    "elif 15 < w < 50 or 15 < l < 50 or 15 < h < 50:\n",
    "    print ('Коробка №2')\n",
    "else:\n",
    "    print ('Стандартная коробка №3')\n",
    "    \n",
    "\n"
   ]
  }
 ],
 "metadata": {
  "kernelspec": {
   "display_name": "Python 3",
   "language": "python",
   "name": "python3"
  },
  "language_info": {
   "codemirror_mode": {
    "name": "ipython",
    "version": 3
   },
   "file_extension": ".py",
   "mimetype": "text/x-python",
   "name": "python",
   "nbconvert_exporter": "python",
   "pygments_lexer": "ipython3",
   "version": "3.8.5"
  }
 },
 "nbformat": 4,
 "nbformat_minor": 4
}
