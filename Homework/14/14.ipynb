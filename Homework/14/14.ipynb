{
 "cells": [
  {
   "cell_type": "markdown",
   "metadata": {},
   "source": [
    "### Задание 1\n"
   ]
  },
  {
   "cell_type": "markdown",
   "metadata": {},
   "source": [
    "Изучить представленный набор данных на основе описания его столбцов и выбрать 8 столбцов для дальнейшего изучения (среди них должны быть как числовые, так и категориальные). Провести расчет базовых метрик для них, кратко описать результаты.\n",
    " "
   ]
  },
  {
   "cell_type": "code",
   "execution_count": 2,
   "metadata": {},
   "outputs": [],
   "source": [
    "import pandas as pd\n",
    "import numpy as np"
   ]
  },
  {
   "cell_type": "code",
   "execution_count": 49,
   "metadata": {},
   "outputs": [],
   "source": [
    "horse = pd.read_csv(f'd:\\workspace\\horse_data.csv', names=[1,2,3,4,5,6,7,8,9,10,11,12,13,14,15,16,17,18,19,20,21,22,23,24,25,26,27,28], na_values = '?')"
   ]
  },
  {
   "cell_type": "code",
   "execution_count": 50,
   "metadata": {},
   "outputs": [],
   "source": [
    "df1 = horse.iloc[:,3:11]"
   ]
  },
  {
   "cell_type": "code",
   "execution_count": 9,
   "metadata": {},
   "outputs": [
    {
     "data": {
      "text/html": [
       "<div>\n",
       "<style scoped>\n",
       "    .dataframe tbody tr th:only-of-type {\n",
       "        vertical-align: middle;\n",
       "    }\n",
       "\n",
       "    .dataframe tbody tr th {\n",
       "        vertical-align: top;\n",
       "    }\n",
       "\n",
       "    .dataframe thead th {\n",
       "        text-align: right;\n",
       "    }\n",
       "</style>\n",
       "<table border=\"1\" class=\"dataframe\">\n",
       "  <thead>\n",
       "    <tr style=\"text-align: right;\">\n",
       "      <th></th>\n",
       "      <th>4</th>\n",
       "      <th>5</th>\n",
       "      <th>6</th>\n",
       "      <th>7</th>\n",
       "      <th>8</th>\n",
       "      <th>9</th>\n",
       "      <th>10</th>\n",
       "      <th>11</th>\n",
       "    </tr>\n",
       "  </thead>\n",
       "  <tbody>\n",
       "    <tr>\n",
       "      <th>count</th>\n",
       "      <td>240.000000</td>\n",
       "      <td>276.000000</td>\n",
       "      <td>242.000000</td>\n",
       "      <td>244.000000</td>\n",
       "      <td>231.000000</td>\n",
       "      <td>253.000000</td>\n",
       "      <td>268.000000</td>\n",
       "      <td>245.00000</td>\n",
       "    </tr>\n",
       "    <tr>\n",
       "      <th>mean</th>\n",
       "      <td>38.167917</td>\n",
       "      <td>71.913043</td>\n",
       "      <td>30.417355</td>\n",
       "      <td>2.348361</td>\n",
       "      <td>2.017316</td>\n",
       "      <td>2.853755</td>\n",
       "      <td>1.305970</td>\n",
       "      <td>2.95102</td>\n",
       "    </tr>\n",
       "    <tr>\n",
       "      <th>std</th>\n",
       "      <td>0.732289</td>\n",
       "      <td>28.630557</td>\n",
       "      <td>17.642231</td>\n",
       "      <td>1.045054</td>\n",
       "      <td>1.042428</td>\n",
       "      <td>1.620294</td>\n",
       "      <td>0.477629</td>\n",
       "      <td>1.30794</td>\n",
       "    </tr>\n",
       "    <tr>\n",
       "      <th>min</th>\n",
       "      <td>35.400000</td>\n",
       "      <td>30.000000</td>\n",
       "      <td>8.000000</td>\n",
       "      <td>1.000000</td>\n",
       "      <td>1.000000</td>\n",
       "      <td>1.000000</td>\n",
       "      <td>1.000000</td>\n",
       "      <td>1.00000</td>\n",
       "    </tr>\n",
       "    <tr>\n",
       "      <th>25%</th>\n",
       "      <td>37.800000</td>\n",
       "      <td>48.000000</td>\n",
       "      <td>18.500000</td>\n",
       "      <td>1.000000</td>\n",
       "      <td>1.000000</td>\n",
       "      <td>1.000000</td>\n",
       "      <td>1.000000</td>\n",
       "      <td>2.00000</td>\n",
       "    </tr>\n",
       "    <tr>\n",
       "      <th>50%</th>\n",
       "      <td>38.200000</td>\n",
       "      <td>64.000000</td>\n",
       "      <td>24.500000</td>\n",
       "      <td>3.000000</td>\n",
       "      <td>2.000000</td>\n",
       "      <td>3.000000</td>\n",
       "      <td>1.000000</td>\n",
       "      <td>3.00000</td>\n",
       "    </tr>\n",
       "    <tr>\n",
       "      <th>75%</th>\n",
       "      <td>38.500000</td>\n",
       "      <td>88.000000</td>\n",
       "      <td>36.000000</td>\n",
       "      <td>3.000000</td>\n",
       "      <td>3.000000</td>\n",
       "      <td>4.000000</td>\n",
       "      <td>2.000000</td>\n",
       "      <td>4.00000</td>\n",
       "    </tr>\n",
       "    <tr>\n",
       "      <th>max</th>\n",
       "      <td>40.800000</td>\n",
       "      <td>184.000000</td>\n",
       "      <td>96.000000</td>\n",
       "      <td>4.000000</td>\n",
       "      <td>4.000000</td>\n",
       "      <td>6.000000</td>\n",
       "      <td>3.000000</td>\n",
       "      <td>5.00000</td>\n",
       "    </tr>\n",
       "  </tbody>\n",
       "</table>\n",
       "</div>"
      ],
      "text/plain": [
       "               4           5           6           7           8           9   \\\n",
       "count  240.000000  276.000000  242.000000  244.000000  231.000000  253.000000   \n",
       "mean    38.167917   71.913043   30.417355    2.348361    2.017316    2.853755   \n",
       "std      0.732289   28.630557   17.642231    1.045054    1.042428    1.620294   \n",
       "min     35.400000   30.000000    8.000000    1.000000    1.000000    1.000000   \n",
       "25%     37.800000   48.000000   18.500000    1.000000    1.000000    1.000000   \n",
       "50%     38.200000   64.000000   24.500000    3.000000    2.000000    3.000000   \n",
       "75%     38.500000   88.000000   36.000000    3.000000    3.000000    4.000000   \n",
       "max     40.800000  184.000000   96.000000    4.000000    4.000000    6.000000   \n",
       "\n",
       "               10         11  \n",
       "count  268.000000  245.00000  \n",
       "mean     1.305970    2.95102  \n",
       "std      0.477629    1.30794  \n",
       "min      1.000000    1.00000  \n",
       "25%      1.000000    2.00000  \n",
       "50%      1.000000    3.00000  \n",
       "75%      2.000000    4.00000  \n",
       "max      3.000000    5.00000  "
      ]
     },
     "execution_count": 9,
     "metadata": {},
     "output_type": "execute_result"
    }
   ],
   "source": [
    "df1.describe()"
   ]
  },
  {
   "cell_type": "markdown",
   "metadata": {},
   "source": [
    "Столбец 4 (ректальня температура):\n",
    "1. средняя температура - 38,1 \n",
    "2. минимальная температура - 35,4\n",
    "3. максимальная температура - 40,8\n",
    "4. среднеквадратичное отклонение - 0,7\n",
    "5. медиана - 38,2\n",
    "\n",
    "Столбец 5 (пульс):\n",
    "1. средний пульс - 71,9 \n",
    "2. минимальный пульс - 30\n",
    "3. максимальный пульс - 184\n",
    "4. среднеквадратичное отклонение - 28,6\n",
    "5. медиана - 64\n",
    "\n",
    "Столбец 6 (частота дыхания)\n",
    "1. Средняя частота - 30 вдохов\n",
    "2. Минимальная частота - 8\n",
    "3. Максимальная частота - 96\n",
    "4. среднеквадратичное отклонение - 17,6\n",
    "5. медиана - 24,5\n",
    "\n",
    "Остальные столбцы содержат качественные показатели, в связи с чем данные метрики значимой информации не содержат"
   ]
  },
  {
   "cell_type": "code",
   "execution_count": 73,
   "metadata": {},
   "outputs": [],
   "source": [
    "def moda(df):\n",
    "    rec_temp = {}\n",
    "    for w in df.round():\n",
    "        if w not in rec_temp:\n",
    "            rec_temp[w] = 1\n",
    "        else:\n",
    "            rec_temp[w] += 1\n",
    "\n",
    "    maxt= 0\n",
    "    mode_temp = None\n",
    "    for k, v in rec_temp.items():\n",
    "        if maxt < v:\n",
    "            maxt = v\n",
    "            mode_temp = k\n",
    "    return f'Наибольшее количество раз ({maxt}) встречается показатель {mode_temp}'"
   ]
  },
  {
   "cell_type": "markdown",
   "metadata": {},
   "source": [
    "#### Мода для столбца 4 (ректальня температура)"
   ]
  },
  {
   "cell_type": "code",
   "execution_count": 15,
   "metadata": {},
   "outputs": [
    {
     "data": {
      "text/plain": [
       "'Наибольшее количество раз (152) встречается показатель 38.0'"
      ]
     },
     "execution_count": 15,
     "metadata": {},
     "output_type": "execute_result"
    }
   ],
   "source": [
    "moda(df1[4])\n"
   ]
  },
  {
   "cell_type": "markdown",
   "metadata": {},
   "source": [
    "#### Мода для столбца 5 (пульс)"
   ]
  },
  {
   "cell_type": "code",
   "execution_count": 16,
   "metadata": {},
   "outputs": [
    {
     "data": {
      "text/plain": [
       "'Наибольшее количество раз (28) встречается показатель 48.0'"
      ]
     },
     "execution_count": 16,
     "metadata": {},
     "output_type": "execute_result"
    }
   ],
   "source": [
    "moda(df1[5])\n"
   ]
  },
  {
   "cell_type": "markdown",
   "metadata": {},
   "source": [
    "#### Мода для столбца 6 (частота дыхания)"
   ]
  },
  {
   "cell_type": "code",
   "execution_count": 17,
   "metadata": {},
   "outputs": [
    {
     "data": {
      "text/plain": [
       "'Наибольшее количество раз (28) встречается показатель 20.0'"
      ]
     },
     "execution_count": 17,
     "metadata": {},
     "output_type": "execute_result"
    }
   ],
   "source": [
    "moda(df1[6])\n"
   ]
  },
  {
   "cell_type": "markdown",
   "metadata": {},
   "source": [
    "#### Мода для столбца 7 (температура конечностей)\n",
    "При этом: 1 = Нормальная, 2 = Теплая, 3 = Прохладная,  4 = Холодная"
   ]
  },
  {
   "cell_type": "code",
   "execution_count": 25,
   "metadata": {},
   "outputs": [
    {
     "data": {
      "text/plain": [
       "'Наибольшее количество раз (109) встречается показатель 3.0'"
      ]
     },
     "execution_count": 25,
     "metadata": {},
     "output_type": "execute_result"
    }
   ],
   "source": [
    "moda(df1[7])\n"
   ]
  },
  {
   "cell_type": "markdown",
   "metadata": {},
   "source": [
    "#### Мода для столбца 8 (пульс)\n",
    "При этом:   1 = нормальный, 2 = повышенный, 3 = сниженный, 4 = отсутствует"
   ]
  },
  {
   "cell_type": "code",
   "execution_count": 27,
   "metadata": {},
   "outputs": [
    {
     "data": {
      "text/plain": [
       "'Наибольшее количество раз (115) встречается показатель 1.0'"
      ]
     },
     "execution_count": 27,
     "metadata": {},
     "output_type": "execute_result"
    }
   ],
   "source": [
    "moda(df1[8]) "
   ]
  },
  {
   "cell_type": "markdown",
   "metadata": {},
   "source": [
    "#### Мода для столбца 9 (состояние слизистых оболочек)\n",
    "При этом:   1 = нормальный розовый, 2 = ярко-розовый, 3 = бледно-розовый, 4 = бледно-синюшный, 5 = ярко-красный / впрыснутый, 6 = темно-синюшный"
   ]
  },
  {
   "cell_type": "code",
   "execution_count": 28,
   "metadata": {},
   "outputs": [
    {
     "data": {
      "text/plain": [
       "'Наибольшее количество раз (79) встречается показатель 1.0'"
      ]
     },
     "execution_count": 28,
     "metadata": {},
     "output_type": "execute_result"
    }
   ],
   "source": [
    "moda(df1[9]) "
   ]
  },
  {
   "cell_type": "markdown",
   "metadata": {},
   "source": [
    "#### Мода для столбца 10  (время наполнения капилляров)\n",
    "При этом:   1 = <3 секунд,\n",
    "            2 = => 3 секунд"
   ]
  },
  {
   "cell_type": "code",
   "execution_count": 29,
   "metadata": {},
   "outputs": [
    {
     "data": {
      "text/plain": [
       "'Наибольшее количество раз (188) встречается показатель 1.0'"
      ]
     },
     "execution_count": 29,
     "metadata": {},
     "output_type": "execute_result"
    }
   ],
   "source": [
    "moda(df1[10]) "
   ]
  },
  {
   "cell_type": "markdown",
   "metadata": {},
   "source": [
    "#### Мода для столбца 11  (боль)\n",
    "При этом: 1 = тревога, без боли, 2 = депрессия, 3 = прерывистая легкая боль, 4 = периодическая сильная боль, 5 = постоянная сильная боль"
   ]
  },
  {
   "cell_type": "code",
   "execution_count": 30,
   "metadata": {},
   "outputs": [
    {
     "data": {
      "text/plain": [
       "'Наибольшее количество раз (67) встречается показатель 3.0'"
      ]
     },
     "execution_count": 30,
     "metadata": {},
     "output_type": "execute_result"
    }
   ],
   "source": [
    "moda(df1[11]) "
   ]
  },
  {
   "cell_type": "markdown",
   "metadata": {},
   "source": [
    "### Задание 2. Работа с выбросами"
   ]
  },
  {
   "cell_type": "code",
   "execution_count": 19,
   "metadata": {},
   "outputs": [],
   "source": [
    "df2 = horse.iloc[:,3:6]"
   ]
  },
  {
   "cell_type": "code",
   "execution_count": 35,
   "metadata": {},
   "outputs": [],
   "source": [
    "def outliers(df):\n",
    "    q1 = df.quantile(0.25)\n",
    "    q3 = df.quantile(0.75)\n",
    "    iqr = q3 - q1\n",
    "    lower_bound = q1 - (1.5 * iqr) \n",
    "    upper_bound = q3 + (1.5 * iqr)\n",
    "    remove_outliers = df2[df.between(lower_bound, upper_bound, inclusive=True)]\n",
    "    return pd.concat([df2, remove_outliers]).drop_duplicates(keep=False)"
   ]
  },
  {
   "cell_type": "code",
   "execution_count": 41,
   "metadata": {},
   "outputs": [
    {
     "data": {
      "text/html": [
       "<div>\n",
       "<style scoped>\n",
       "    .dataframe tbody tr th:only-of-type {\n",
       "        vertical-align: middle;\n",
       "    }\n",
       "\n",
       "    .dataframe tbody tr th {\n",
       "        vertical-align: top;\n",
       "    }\n",
       "\n",
       "    .dataframe thead th {\n",
       "        text-align: right;\n",
       "    }\n",
       "</style>\n",
       "<table border=\"1\" class=\"dataframe\">\n",
       "  <thead>\n",
       "    <tr style=\"text-align: right;\">\n",
       "      <th></th>\n",
       "      <th>4</th>\n",
       "      <th>5</th>\n",
       "      <th>6</th>\n",
       "    </tr>\n",
       "  </thead>\n",
       "  <tbody>\n",
       "    <tr>\n",
       "      <th>44</th>\n",
       "      <td>35.4</td>\n",
       "      <td>140.0</td>\n",
       "      <td>24.0</td>\n",
       "    </tr>\n",
       "    <tr>\n",
       "      <th>141</th>\n",
       "      <td>36.0</td>\n",
       "      <td>42.0</td>\n",
       "      <td>30.0</td>\n",
       "    </tr>\n",
       "    <tr>\n",
       "      <th>238</th>\n",
       "      <td>36.1</td>\n",
       "      <td>88.0</td>\n",
       "      <td>NaN</td>\n",
       "    </tr>\n",
       "    <tr>\n",
       "      <th>80</th>\n",
       "      <td>36.4</td>\n",
       "      <td>98.0</td>\n",
       "      <td>35.0</td>\n",
       "    </tr>\n",
       "    <tr>\n",
       "      <th>118</th>\n",
       "      <td>36.5</td>\n",
       "      <td>78.0</td>\n",
       "      <td>30.0</td>\n",
       "    </tr>\n",
       "    <tr>\n",
       "      <th>298</th>\n",
       "      <td>36.5</td>\n",
       "      <td>100.0</td>\n",
       "      <td>24.0</td>\n",
       "    </tr>\n",
       "    <tr>\n",
       "      <th>251</th>\n",
       "      <td>36.6</td>\n",
       "      <td>42.0</td>\n",
       "      <td>18.0</td>\n",
       "    </tr>\n",
       "    <tr>\n",
       "      <th>99</th>\n",
       "      <td>39.6</td>\n",
       "      <td>108.0</td>\n",
       "      <td>51.0</td>\n",
       "    </tr>\n",
       "    <tr>\n",
       "      <th>75</th>\n",
       "      <td>39.7</td>\n",
       "      <td>100.0</td>\n",
       "      <td>NaN</td>\n",
       "    </tr>\n",
       "    <tr>\n",
       "      <th>20</th>\n",
       "      <td>39.9</td>\n",
       "      <td>72.0</td>\n",
       "      <td>60.0</td>\n",
       "    </tr>\n",
       "    <tr>\n",
       "      <th>281</th>\n",
       "      <td>40.0</td>\n",
       "      <td>78.0</td>\n",
       "      <td>NaN</td>\n",
       "    </tr>\n",
       "    <tr>\n",
       "      <th>259</th>\n",
       "      <td>40.8</td>\n",
       "      <td>72.0</td>\n",
       "      <td>42.0</td>\n",
       "    </tr>\n",
       "    <tr>\n",
       "      <th>7</th>\n",
       "      <td>NaN</td>\n",
       "      <td>60.0</td>\n",
       "      <td>NaN</td>\n",
       "    </tr>\n",
       "  </tbody>\n",
       "</table>\n",
       "</div>"
      ],
      "text/plain": [
       "        4      5     6\n",
       "44   35.4  140.0  24.0\n",
       "141  36.0   42.0  30.0\n",
       "238  36.1   88.0   NaN\n",
       "80   36.4   98.0  35.0\n",
       "118  36.5   78.0  30.0\n",
       "298  36.5  100.0  24.0\n",
       "251  36.6   42.0  18.0\n",
       "99   39.6  108.0  51.0\n",
       "75   39.7  100.0   NaN\n",
       "20   39.9   72.0  60.0\n",
       "281  40.0   78.0   NaN\n",
       "259  40.8   72.0  42.0\n",
       "7     NaN   60.0   NaN"
      ]
     },
     "execution_count": 41,
     "metadata": {},
     "output_type": "execute_result"
    }
   ],
   "source": [
    "outliers(df2[4]).sort_values(4).head(13)"
   ]
  },
  {
   "cell_type": "markdown",
   "metadata": {},
   "source": [
    "При нормальной ректальной температуре лощади в 37,8 градусов, минимальная температура составляет 35,4 градуса, максимальная - 40,8 градуса, что соответсвует нормальным значениям, в связи с чем, выбросов по температуре не установлено."
   ]
  },
  {
   "cell_type": "code",
   "execution_count": 42,
   "metadata": {},
   "outputs": [
    {
     "data": {
      "text/html": [
       "<div>\n",
       "<style scoped>\n",
       "    .dataframe tbody tr th:only-of-type {\n",
       "        vertical-align: middle;\n",
       "    }\n",
       "\n",
       "    .dataframe tbody tr th {\n",
       "        vertical-align: top;\n",
       "    }\n",
       "\n",
       "    .dataframe thead th {\n",
       "        text-align: right;\n",
       "    }\n",
       "</style>\n",
       "<table border=\"1\" class=\"dataframe\">\n",
       "  <thead>\n",
       "    <tr style=\"text-align: right;\">\n",
       "      <th></th>\n",
       "      <th>4</th>\n",
       "      <th>5</th>\n",
       "      <th>6</th>\n",
       "    </tr>\n",
       "  </thead>\n",
       "  <tbody>\n",
       "    <tr>\n",
       "      <th>41</th>\n",
       "      <td>39.0</td>\n",
       "      <td>150.0</td>\n",
       "      <td>72.0</td>\n",
       "    </tr>\n",
       "    <tr>\n",
       "      <th>275</th>\n",
       "      <td>38.8</td>\n",
       "      <td>150.0</td>\n",
       "      <td>50.0</td>\n",
       "    </tr>\n",
       "    <tr>\n",
       "      <th>55</th>\n",
       "      <td>38.6</td>\n",
       "      <td>160.0</td>\n",
       "      <td>20.0</td>\n",
       "    </tr>\n",
       "    <tr>\n",
       "      <th>3</th>\n",
       "      <td>39.1</td>\n",
       "      <td>164.0</td>\n",
       "      <td>84.0</td>\n",
       "    </tr>\n",
       "    <tr>\n",
       "      <th>255</th>\n",
       "      <td>38.8</td>\n",
       "      <td>184.0</td>\n",
       "      <td>84.0</td>\n",
       "    </tr>\n",
       "    <tr>\n",
       "      <th>58</th>\n",
       "      <td>NaN</td>\n",
       "      <td>NaN</td>\n",
       "      <td>20.0</td>\n",
       "    </tr>\n",
       "    <tr>\n",
       "      <th>115</th>\n",
       "      <td>NaN</td>\n",
       "      <td>NaN</td>\n",
       "      <td>40.0</td>\n",
       "    </tr>\n",
       "    <tr>\n",
       "      <th>117</th>\n",
       "      <td>39.5</td>\n",
       "      <td>NaN</td>\n",
       "      <td>NaN</td>\n",
       "    </tr>\n",
       "    <tr>\n",
       "      <th>126</th>\n",
       "      <td>38.7</td>\n",
       "      <td>NaN</td>\n",
       "      <td>NaN</td>\n",
       "    </tr>\n",
       "    <tr>\n",
       "      <th>151</th>\n",
       "      <td>39.3</td>\n",
       "      <td>NaN</td>\n",
       "      <td>NaN</td>\n",
       "    </tr>\n",
       "    <tr>\n",
       "      <th>159</th>\n",
       "      <td>NaN</td>\n",
       "      <td>NaN</td>\n",
       "      <td>12.0</td>\n",
       "    </tr>\n",
       "    <tr>\n",
       "      <th>204</th>\n",
       "      <td>39.2</td>\n",
       "      <td>NaN</td>\n",
       "      <td>23.0</td>\n",
       "    </tr>\n",
       "  </tbody>\n",
       "</table>\n",
       "</div>"
      ],
      "text/plain": [
       "        4      5     6\n",
       "41   39.0  150.0  72.0\n",
       "275  38.8  150.0  50.0\n",
       "55   38.6  160.0  20.0\n",
       "3    39.1  164.0  84.0\n",
       "255  38.8  184.0  84.0\n",
       "58    NaN    NaN  20.0\n",
       "115   NaN    NaN  40.0\n",
       "117  39.5    NaN   NaN\n",
       "126  38.7    NaN   NaN\n",
       "151  39.3    NaN   NaN\n",
       "159   NaN    NaN  12.0\n",
       "204  39.2    NaN  23.0"
      ]
     },
     "execution_count": 42,
     "metadata": {},
     "output_type": "execute_result"
    }
   ],
   "source": [
    "outliers(df2[5]).sort_values(5)"
   ]
  },
  {
   "cell_type": "markdown",
   "metadata": {},
   "source": [
    "При нормальном пульсе лощади в 30-40 ударов в минуту, пульс от 150 до 184 является явно значительно превышающим стандартный показатель, в связи с чем подлежит исключению из выборки либо изменению методом аналогичным при работе с пропусками.\n"
   ]
  },
  {
   "cell_type": "code",
   "execution_count": 46,
   "metadata": {},
   "outputs": [
    {
     "data": {
      "text/html": [
       "<div>\n",
       "<style scoped>\n",
       "    .dataframe tbody tr th:only-of-type {\n",
       "        vertical-align: middle;\n",
       "    }\n",
       "\n",
       "    .dataframe tbody tr th {\n",
       "        vertical-align: top;\n",
       "    }\n",
       "\n",
       "    .dataframe thead th {\n",
       "        text-align: right;\n",
       "    }\n",
       "</style>\n",
       "<table border=\"1\" class=\"dataframe\">\n",
       "  <thead>\n",
       "    <tr style=\"text-align: right;\">\n",
       "      <th></th>\n",
       "      <th>4</th>\n",
       "      <th>5</th>\n",
       "      <th>6</th>\n",
       "    </tr>\n",
       "  </thead>\n",
       "  <tbody>\n",
       "    <tr>\n",
       "      <th>120</th>\n",
       "      <td>39.4</td>\n",
       "      <td>54.0</td>\n",
       "      <td>66.0</td>\n",
       "    </tr>\n",
       "    <tr>\n",
       "      <th>103</th>\n",
       "      <td>38.0</td>\n",
       "      <td>140.0</td>\n",
       "      <td>68.0</td>\n",
       "    </tr>\n",
       "    <tr>\n",
       "      <th>125</th>\n",
       "      <td>38.0</td>\n",
       "      <td>42.0</td>\n",
       "      <td>68.0</td>\n",
       "    </tr>\n",
       "    <tr>\n",
       "      <th>265</th>\n",
       "      <td>NaN</td>\n",
       "      <td>56.0</td>\n",
       "      <td>68.0</td>\n",
       "    </tr>\n",
       "    <tr>\n",
       "      <th>229</th>\n",
       "      <td>38.5</td>\n",
       "      <td>120.0</td>\n",
       "      <td>70.0</td>\n",
       "    </tr>\n",
       "    <tr>\n",
       "      <th>295</th>\n",
       "      <td>NaN</td>\n",
       "      <td>120.0</td>\n",
       "      <td>70.0</td>\n",
       "    </tr>\n",
       "    <tr>\n",
       "      <th>41</th>\n",
       "      <td>39.0</td>\n",
       "      <td>150.0</td>\n",
       "      <td>72.0</td>\n",
       "    </tr>\n",
       "    <tr>\n",
       "      <th>82</th>\n",
       "      <td>38.1</td>\n",
       "      <td>100.0</td>\n",
       "      <td>80.0</td>\n",
       "    </tr>\n",
       "    <tr>\n",
       "      <th>84</th>\n",
       "      <td>37.8</td>\n",
       "      <td>60.0</td>\n",
       "      <td>80.0</td>\n",
       "    </tr>\n",
       "    <tr>\n",
       "      <th>208</th>\n",
       "      <td>37.8</td>\n",
       "      <td>88.0</td>\n",
       "      <td>80.0</td>\n",
       "    </tr>\n",
       "    <tr>\n",
       "      <th>3</th>\n",
       "      <td>39.1</td>\n",
       "      <td>164.0</td>\n",
       "      <td>84.0</td>\n",
       "    </tr>\n",
       "    <tr>\n",
       "      <th>255</th>\n",
       "      <td>38.8</td>\n",
       "      <td>184.0</td>\n",
       "      <td>84.0</td>\n",
       "    </tr>\n",
       "    <tr>\n",
       "      <th>244</th>\n",
       "      <td>38.2</td>\n",
       "      <td>124.0</td>\n",
       "      <td>88.0</td>\n",
       "    </tr>\n",
       "    <tr>\n",
       "      <th>39</th>\n",
       "      <td>39.2</td>\n",
       "      <td>146.0</td>\n",
       "      <td>96.0</td>\n",
       "    </tr>\n",
       "    <tr>\n",
       "      <th>106</th>\n",
       "      <td>38.3</td>\n",
       "      <td>52.0</td>\n",
       "      <td>96.0</td>\n",
       "    </tr>\n",
       "    <tr>\n",
       "      <th>7</th>\n",
       "      <td>NaN</td>\n",
       "      <td>60.0</td>\n",
       "      <td>NaN</td>\n",
       "    </tr>\n",
       "  </tbody>\n",
       "</table>\n",
       "</div>"
      ],
      "text/plain": [
       "        4      5     6\n",
       "120  39.4   54.0  66.0\n",
       "103  38.0  140.0  68.0\n",
       "125  38.0   42.0  68.0\n",
       "265   NaN   56.0  68.0\n",
       "229  38.5  120.0  70.0\n",
       "295   NaN  120.0  70.0\n",
       "41   39.0  150.0  72.0\n",
       "82   38.1  100.0  80.0\n",
       "84   37.8   60.0  80.0\n",
       "208  37.8   88.0  80.0\n",
       "3    39.1  164.0  84.0\n",
       "255  38.8  184.0  84.0\n",
       "244  38.2  124.0  88.0\n",
       "39   39.2  146.0  96.0\n",
       "106  38.3   52.0  96.0\n",
       "7     NaN   60.0   NaN"
      ]
     },
     "execution_count": 46,
     "metadata": {},
     "output_type": "execute_result"
    }
   ],
   "source": [
    "outliers(df2[6]).sort_values(6).head(16)"
   ]
  },
  {
   "cell_type": "markdown",
   "metadata": {},
   "source": [
    "В соответстии с описанием столбцов в наборе анализируемых данных, нормальная частота дыхания составляет от 8 до 10 вдохов, вместе с тем, также указано на низкую полезность данных показателей из-за их больших колебаний. При сопоставлении с ранее рассчитанными метриками, нормальная частота дыхания выявлена менее чем у 25 % лошадей, средняя частота дыхания - 30 вдохов, а мода - 20, в связи с чем выявленные выбросы подлежат включению в выборку для дальнейшего анализа и сопоставления с иными показателями."
   ]
  },
  {
   "cell_type": "markdown",
   "metadata": {},
   "source": [
    "### Задание 3. Работа с пропусками"
   ]
  },
  {
   "cell_type": "markdown",
   "metadata": {},
   "source": [
    "Рассчитать количество пропусков для всех выбранных столбцов. Принять и обосновать решение о методе работы с пропусками по каждому столбцу, сформировать датафрейм, в котором пропуски будут отсутствовать."
   ]
  },
  {
   "cell_type": "code",
   "execution_count": 208,
   "metadata": {},
   "outputs": [],
   "source": [
    "df3 = df1.rename({4:'temp', 5:'pulse',6:'respiratory',7:'temp_ext',8:'per_pulse',9:'membranes',10:'refill',11:'pain'}, axis=1)"
   ]
  },
  {
   "cell_type": "code",
   "execution_count": 190,
   "metadata": {},
   "outputs": [
    {
     "name": "stdout",
     "output_type": "stream",
     "text": [
      "<class 'pandas.core.frame.DataFrame'>\n",
      "RangeIndex: 300 entries, 0 to 299\n",
      "Data columns (total 8 columns):\n",
      " #   Column       Non-Null Count  Dtype  \n",
      "---  ------       --------------  -----  \n",
      " 0   temp         240 non-null    float64\n",
      " 1   pulse        276 non-null    float64\n",
      " 2   respiratory  242 non-null    float64\n",
      " 3   temp_ext     244 non-null    float64\n",
      " 4   per_pulse    231 non-null    float64\n",
      " 5   membranes    253 non-null    float64\n",
      " 6   refill       268 non-null    float64\n",
      " 7   pain         245 non-null    float64\n",
      "dtypes: float64(8)\n",
      "memory usage: 18.9 KB\n"
     ]
    }
   ],
   "source": [
    "df3.info()"
   ]
  },
  {
   "cell_type": "code",
   "execution_count": 209,
   "metadata": {},
   "outputs": [],
   "source": [
    "df3_drop = df3.dropna(thresh=5)"
   ]
  },
  {
   "cell_type": "code",
   "execution_count": 192,
   "metadata": {},
   "outputs": [
    {
     "name": "stdout",
     "output_type": "stream",
     "text": [
      "<class 'pandas.core.frame.DataFrame'>\n",
      "Int64Index: 265 entries, 0 to 298\n",
      "Data columns (total 8 columns):\n",
      " #   Column       Non-Null Count  Dtype  \n",
      "---  ------       --------------  -----  \n",
      " 0   temp         220 non-null    float64\n",
      " 1   pulse        251 non-null    float64\n",
      " 2   respiratory  221 non-null    float64\n",
      " 3   temp_ext     242 non-null    float64\n",
      " 4   per_pulse    229 non-null    float64\n",
      " 5   membranes    250 non-null    float64\n",
      " 6   refill       258 non-null    float64\n",
      " 7   pain         240 non-null    float64\n",
      "dtypes: float64(8)\n",
      "memory usage: 18.6 KB\n"
     ]
    }
   ],
   "source": [
    "df3_drop.info()"
   ]
  },
  {
   "cell_type": "code",
   "execution_count": 210,
   "metadata": {},
   "outputs": [
    {
     "name": "stdout",
     "output_type": "stream",
     "text": [
      "Количество пропусков в столбцах:\n",
      "temp - 17.0%\n",
      "pulse - 5.3%\n",
      "respiratory - 16.6%\n",
      "temp_ext - 8.7%\n",
      "per_pulse - 13.6%\n",
      "membranes - 5.7%\n",
      "refill - 2.6%\n",
      "pain - 9.4%\n"
     ]
    }
   ],
   "source": [
    "print(f'Количество пропусков в столбцах:')\n",
    "for col in df3_drop:\n",
    "    pct_missing = df3_drop[col].isna().mean()\n",
    "    print(f'{col} - {pct_missing :.1%}')"
   ]
  },
  {
   "cell_type": "markdown",
   "metadata": {},
   "source": [
    "Исходя из описания таблицы можно усмотреть зависимость между столбцом 4  (ректальная температура - temp) и столбцом 7 (температура конечностей - temp_ext), в связи с чем возможно заполнить пропуски в столбце 4 значенииями медиан ректальной темпертуры по сгруппированному столбцу 7, а затем аналогичным образом заполнить столбец 7, сгруппировав столбец 4"
   ]
  },
  {
   "cell_type": "code",
   "execution_count": 211,
   "metadata": {
    "collapsed": true
   },
   "outputs": [
    {
     "name": "stderr",
     "output_type": "stream",
     "text": [
      "C:\\ProgramData\\Anaconda3\\lib\\site-packages\\pandas\\core\\series.py:4517: SettingWithCopyWarning: \n",
      "A value is trying to be set on a copy of a slice from a DataFrame\n",
      "\n",
      "See the caveats in the documentation: https://pandas.pydata.org/pandas-docs/stable/user_guide/indexing.html#returning-a-view-versus-a-copy\n",
      "  return super().fillna(\n"
     ]
    }
   ],
   "source": [
    "df3_drop['temp'].fillna(df3_drop.groupby(['temp_ext']).temp.transform('median'), inplace=True)"
   ]
  },
  {
   "cell_type": "code",
   "execution_count": 212,
   "metadata": {},
   "outputs": [],
   "source": [
    "df3_drop['temp_ext'].fillna(df3_drop.groupby(['temp']).temp_ext.transform('median'), inplace=True)"
   ]
  },
  {
   "cell_type": "code",
   "execution_count": 213,
   "metadata": {},
   "outputs": [
    {
     "name": "stdout",
     "output_type": "stream",
     "text": [
      "Количество пропусков в столбцах:\n",
      "temp - 0.4%\n",
      "pulse - 5.3%\n",
      "respiratory - 16.6%\n",
      "temp_ext - 0.8%\n",
      "per_pulse - 13.6%\n",
      "membranes - 5.7%\n",
      "refill - 2.6%\n",
      "pain - 9.4%\n"
     ]
    }
   ],
   "source": [
    "print(f'Количество пропусков в столбцах:')\n",
    "for col in df3_drop.columns:\n",
    "    pct_missing = df3_drop[col].isna().mean()\n",
    "    print(f'{col} - {pct_missing :.1%}')"
   ]
  },
  {
   "cell_type": "code",
   "execution_count": 214,
   "metadata": {},
   "outputs": [],
   "source": [
    "df3_drop['temp'].fillna(df3_drop['temp'].mean(), inplace=True)"
   ]
  },
  {
   "cell_type": "code",
   "execution_count": 215,
   "metadata": {},
   "outputs": [],
   "source": [
    "df3_drop['temp_ext'].fillna(df3_drop['temp_ext'].median(), inplace=True)"
   ]
  },
  {
   "cell_type": "code",
   "execution_count": 216,
   "metadata": {},
   "outputs": [
    {
     "name": "stdout",
     "output_type": "stream",
     "text": [
      "Количество пропусков в столбцах:\n",
      "temp - 0.0%\n",
      "pulse - 5.3%\n",
      "respiratory - 16.6%\n",
      "temp_ext - 0.0%\n",
      "per_pulse - 13.6%\n",
      "membranes - 5.7%\n",
      "refill - 2.6%\n",
      "pain - 9.4%\n"
     ]
    }
   ],
   "source": [
    "print(f'Количество пропусков в столбцах:')\n",
    "for col in df3_drop.columns:\n",
    "    pct_missing = df3_drop[col].isna().mean()\n",
    "    print(f'{col} - {pct_missing :.1%}')"
   ]
  },
  {
   "cell_type": "markdown",
   "metadata": {},
   "source": [
    "Исходя из описания таблицы можно усмотреть зависимость между столбцом 5 (пульс- pulse) и столбцом 8 (периферический пульс  - per_pulse), в связи с чем возможно заполнить пропуски в столбце 5 значенииями медиан пульса по сгруппированному столбцу 8, а затем аналогичным образом заполнить столбец 8, сгруппировав столбец 5"
   ]
  },
  {
   "cell_type": "code",
   "execution_count": 217,
   "metadata": {},
   "outputs": [],
   "source": [
    "df3_drop['pulse'].fillna(df3_drop.groupby(['per_pulse']).pulse.transform('median'), inplace=True)"
   ]
  },
  {
   "cell_type": "code",
   "execution_count": 218,
   "metadata": {},
   "outputs": [],
   "source": [
    "df3_drop['per_pulse'].fillna(df3_drop.groupby(['pulse']).per_pulse.transform('median'), inplace=True)"
   ]
  },
  {
   "cell_type": "code",
   "execution_count": 219,
   "metadata": {},
   "outputs": [
    {
     "name": "stdout",
     "output_type": "stream",
     "text": [
      "Количество пропусков в столбцах:\n",
      "temp - 0.0%\n",
      "pulse - 0.0%\n",
      "respiratory - 16.6%\n",
      "temp_ext - 0.0%\n",
      "per_pulse - 1.1%\n",
      "membranes - 5.7%\n",
      "refill - 2.6%\n",
      "pain - 9.4%\n"
     ]
    }
   ],
   "source": [
    "print(f'Количество пропусков в столбцах:')\n",
    "for col in df3_drop.columns:\n",
    "    pct_missing = df3_drop[col].isna().mean()\n",
    "    print(f'{col} - {pct_missing :.1%}')"
   ]
  },
  {
   "cell_type": "code",
   "execution_count": 220,
   "metadata": {},
   "outputs": [],
   "source": [
    "df3_drop['per_pulse'].fillna(df3_drop['per_pulse'].median(), inplace=True)"
   ]
  },
  {
   "cell_type": "code",
   "execution_count": 221,
   "metadata": {},
   "outputs": [
    {
     "name": "stdout",
     "output_type": "stream",
     "text": [
      "Количество пропусков в столбцах:\n",
      "temp - 0.0%\n",
      "pulse - 0.0%\n",
      "respiratory - 16.6%\n",
      "temp_ext - 0.0%\n",
      "per_pulse - 0.0%\n",
      "membranes - 5.7%\n",
      "refill - 2.6%\n",
      "pain - 9.4%\n"
     ]
    }
   ],
   "source": [
    "print(f'Количество пропусков в столбцах:')\n",
    "for col in df3_drop.columns:\n",
    "    pct_missing = df3_drop[col].isna().mean()\n",
    "    print(f'{col} - {pct_missing :.1%}')"
   ]
  },
  {
   "cell_type": "markdown",
   "metadata": {},
   "source": [
    "Также можно определить прямую зависимость частоты дыхания от пульса, в связи с чем заполнить столбец 6 (частота дыхания - respiratory) способом аналогичным прыдущим"
   ]
  },
  {
   "cell_type": "code",
   "execution_count": 223,
   "metadata": {},
   "outputs": [],
   "source": [
    "df3_drop['respiratory'].fillna(df3_drop.groupby(['pulse']).respiratory.transform('median'), inplace=True)"
   ]
  },
  {
   "cell_type": "code",
   "execution_count": 224,
   "metadata": {},
   "outputs": [
    {
     "name": "stdout",
     "output_type": "stream",
     "text": [
      "Количество пропусков в столбцах:\n",
      "temp - 0.0%\n",
      "pulse - 0.0%\n",
      "respiratory - 0.8%\n",
      "temp_ext - 0.0%\n",
      "per_pulse - 0.0%\n",
      "membranes - 5.7%\n",
      "refill - 2.6%\n",
      "pain - 9.4%\n"
     ]
    }
   ],
   "source": [
    "print(f'Количество пропусков в столбцах:')\n",
    "for col in df3_drop.columns:\n",
    "    pct_missing = df3_drop[col].isna().mean()\n",
    "    print(f'{col} - {pct_missing :.1%}')"
   ]
  },
  {
   "cell_type": "code",
   "execution_count": 226,
   "metadata": {},
   "outputs": [],
   "source": [
    "df3_drop['respiratory'].fillna(df3_drop['respiratory'].median(), inplace=True)"
   ]
  },
  {
   "cell_type": "code",
   "execution_count": 227,
   "metadata": {},
   "outputs": [
    {
     "name": "stdout",
     "output_type": "stream",
     "text": [
      "Количество пропусков в столбцах:\n",
      "temp - 0.0%\n",
      "pulse - 0.0%\n",
      "respiratory - 0.0%\n",
      "temp_ext - 0.0%\n",
      "per_pulse - 0.0%\n",
      "membranes - 5.7%\n",
      "refill - 2.6%\n",
      "pain - 9.4%\n"
     ]
    }
   ],
   "source": [
    "print(f'Количество пропусков в столбцах:')\n",
    "for col in df3_drop.columns:\n",
    "    pct_missing = df3_drop[col].isna().mean()\n",
    "    print(f'{col} - {pct_missing :.1%}')"
   ]
  },
  {
   "cell_type": "markdown",
   "metadata": {},
   "source": [
    "Исходя из описания таблицы усматривается зависимость боли (столбец 11 - pain) от пульса (столбец 5 - pulse) и температуры конечностей (столбец 7 - temp_ext), в связи с чем можно заполнить попуски в столбце 11 медианами сгрупированных значений столбцов 5 и 7.\n"
   ]
  },
  {
   "cell_type": "code",
   "execution_count": 238,
   "metadata": {
    "collapsed": true
   },
   "outputs": [
    {
     "name": "stderr",
     "output_type": "stream",
     "text": [
      "C:\\ProgramData\\Anaconda3\\lib\\site-packages\\pandas\\core\\series.py:4517: SettingWithCopyWarning: \n",
      "A value is trying to be set on a copy of a slice from a DataFrame\n",
      "\n",
      "See the caveats in the documentation: https://pandas.pydata.org/pandas-docs/stable/user_guide/indexing.html#returning-a-view-versus-a-copy\n",
      "  return super().fillna(\n"
     ]
    }
   ],
   "source": [
    "df3_drop['pain'].fillna(df3_drop.groupby(['pulse','temp_ext']).pain.transform('median'), inplace=True)"
   ]
  },
  {
   "cell_type": "code",
   "execution_count": 239,
   "metadata": {},
   "outputs": [
    {
     "name": "stdout",
     "output_type": "stream",
     "text": [
      "Количество пропусков в столбцах:\n",
      "temp - 0.0%\n",
      "pulse - 0.0%\n",
      "respiratory - 0.0%\n",
      "temp_ext - 0.0%\n",
      "per_pulse - 0.0%\n",
      "membranes - 5.7%\n",
      "refill - 2.6%\n",
      "pain - 1.9%\n"
     ]
    }
   ],
   "source": [
    "print(f'Количество пропусков в столбцах:')\n",
    "for col in df3_drop.columns:\n",
    "    pct_missing = df3_drop[col].isna().mean()\n",
    "    print(f'{col} - {pct_missing :.1%}')"
   ]
  },
  {
   "cell_type": "markdown",
   "metadata": {},
   "source": [
    "Оставшиеся пропуски, в связи с их небольшим соотношением к общему количеству, можно заполнить значениями медиан по соответсвующим столбцам."
   ]
  },
  {
   "cell_type": "code",
   "execution_count": 240,
   "metadata": {},
   "outputs": [],
   "source": [
    "df3_drop['membranes'].fillna(df3_drop['membranes'].median(), inplace=True)\n",
    "df3_drop['refill'].fillna(df3_drop['refill'].median(), inplace=True)\n",
    "df3_drop['pain'].fillna(df3_drop['pain'].median(), inplace=True)"
   ]
  },
  {
   "cell_type": "code",
   "execution_count": 241,
   "metadata": {},
   "outputs": [
    {
     "name": "stdout",
     "output_type": "stream",
     "text": [
      "Количество пропусков в столбцах:\n",
      "temp - 0.0%\n",
      "pulse - 0.0%\n",
      "respiratory - 0.0%\n",
      "temp_ext - 0.0%\n",
      "per_pulse - 0.0%\n",
      "membranes - 0.0%\n",
      "refill - 0.0%\n",
      "pain - 0.0%\n"
     ]
    }
   ],
   "source": [
    "print(f'Количество пропусков в столбцах:')\n",
    "for col in df3_drop.columns:\n",
    "    pct_missing = df3_drop[col].isna().mean()\n",
    "    print(f'{col} - {pct_missing :.1%}')"
   ]
  }
 ],
 "metadata": {
  "kernelspec": {
   "display_name": "Python 3",
   "language": "python",
   "name": "python3"
  },
  "language_info": {
   "codemirror_mode": {
    "name": "ipython",
    "version": 3
   },
   "file_extension": ".py",
   "mimetype": "text/x-python",
   "name": "python",
   "nbconvert_exporter": "python",
   "pygments_lexer": "ipython3",
   "version": "3.8.5"
  }
 },
 "nbformat": 4,
 "nbformat_minor": 4
}
