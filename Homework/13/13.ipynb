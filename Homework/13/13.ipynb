{
 "cells": [
  {
   "cell_type": "markdown",
   "metadata": {},
   "source": [
    "### Задание 1"
   ]
  },
  {
   "cell_type": "markdown",
   "metadata": {},
   "source": [
    "Обязательная часть\n",
    "\n",
    "Будем парсить страницу со свежеми новостям на habr.com/ru/all/.\n",
    "\n",
    "Вам необходимо собирать только те статьи, в которых встречается хотя бы одно требуемое ключевое слово. Эти слова определяем в начале кода в переменной, например:\n",
    "\n",
    "KEYWORDS = ['python', 'парсинг']\n",
    "\n",
    "Поиск вести по всей доступной preview-информации (это информация, доступная непосредственно с текущей страницы).\n",
    "\n",
    "В итоге должен формироваться датафрейм вида: <дата> - <заголовок> - <ссылка>\n"
   ]
  },
  {
   "cell_type": "code",
   "execution_count": 123,
   "metadata": {},
   "outputs": [],
   "source": [
    "import requests\n",
    "from bs4 import BeautifulSoup\n",
    "import pandas as pd\n",
    "from datetime import datetime\n",
    "from datetime import timedelta"
   ]
  },
  {
   "cell_type": "code",
   "execution_count": 28,
   "metadata": {},
   "outputs": [],
   "source": [
    "KEYWORDS = ['python', 'парсинг', 'писатель', 'Fallout']"
   ]
  },
  {
   "cell_type": "code",
   "execution_count": 3,
   "metadata": {},
   "outputs": [],
   "source": [
    "req = requests.get('https://habr.com/ru/all/')\n",
    "soup = BeautifulSoup(req.text, 'html.parser')\n",
    "posts = soup.find_all(class_='post post_preview')"
   ]
  },
  {
   "cell_type": "code",
   "execution_count": 136,
   "metadata": {},
   "outputs": [
    {
     "data": {
      "text/html": [
       "<div>\n",
       "<style scoped>\n",
       "    .dataframe tbody tr th:only-of-type {\n",
       "        vertical-align: middle;\n",
       "    }\n",
       "\n",
       "    .dataframe tbody tr th {\n",
       "        vertical-align: top;\n",
       "    }\n",
       "\n",
       "    .dataframe thead th {\n",
       "        text-align: right;\n",
       "    }\n",
       "</style>\n",
       "<table border=\"1\" class=\"dataframe\">\n",
       "  <thead>\n",
       "    <tr style=\"text-align: right;\">\n",
       "      <th></th>\n",
       "      <th>date</th>\n",
       "      <th>title</th>\n",
       "      <th>link</th>\n",
       "    </tr>\n",
       "  </thead>\n",
       "  <tbody>\n",
       "    <tr>\n",
       "      <th>0</th>\n",
       "      <td>20.03.2021</td>\n",
       "      <td>Посмотрим на девочек? Или ml.net в работе</td>\n",
       "      <td>https://habr.com/ru/post/548038/</td>\n",
       "    </tr>\n",
       "    <tr>\n",
       "      <th>0</th>\n",
       "      <td>20.03.2021</td>\n",
       "      <td>Сколько стоит UX писатель</td>\n",
       "      <td>https://habr.com/ru/post/547766/</td>\n",
       "    </tr>\n",
       "    <tr>\n",
       "      <th>0</th>\n",
       "      <td>19.03.2021</td>\n",
       "      <td>Как IT-комьюнити игроков развивало экосистему ...</td>\n",
       "      <td>https://habr.com/ru/post/548030/</td>\n",
       "    </tr>\n",
       "  </tbody>\n",
       "</table>\n",
       "</div>"
      ],
      "text/plain": [
       "         date                                              title  \\\n",
       "0  20.03.2021          Посмотрим на девочек? Или ml.net в работе   \n",
       "0  20.03.2021                          Сколько стоит UX писатель   \n",
       "0  19.03.2021  Как IT-комьюнити игроков развивало экосистему ...   \n",
       "\n",
       "                               link  \n",
       "0  https://habr.com/ru/post/548038/  \n",
       "0  https://habr.com/ru/post/547766/  \n",
       "0  https://habr.com/ru/post/548030/  "
      ]
     },
     "execution_count": 136,
     "metadata": {},
     "output_type": "execute_result"
    }
   ],
   "source": [
    "word_news = pd.DataFrame()\n",
    "for word in KEYWORDS:\n",
    "    for post in posts:\n",
    "        if word in post.find(class_='post__body post__body_crop').get_text():\n",
    "            date = post.find(class_='post__time').get_text()\n",
    "            title = post.find(class_='post__title_link').get_text()\n",
    "            link = post.find(class_='post__title_link').get('href')\n",
    "            if 'сегодня' in date:\n",
    "                date = datetime.now().strftime('%d.%m.%Y')\n",
    "            elif 'вчера' in date:\n",
    "                date_yest = datetime.now()- timedelta(days=1)\n",
    "                date = date_yest.strftime('%d.%m.%Y')\n",
    "            row = {'date': date, 'title': title, 'link': link}\n",
    "            word_news = pd.concat([word_news, pd.DataFrame([row])])\n",
    "word_news"
   ]
  },
  {
   "cell_type": "code",
   "execution_count": 6,
   "metadata": {},
   "outputs": [],
   "source": [
    "# Черновик\n",
    "# def check_word(word):\n",
    "#     word_news = pd.DataFrame()\n",
    "#     for post in posts:\n",
    "#         if word in post.find(class_='post__body post__body_crop').get_text():\n",
    "#             date = post.find(class_='post__time').get_text()\n",
    "#             title = post.find(class_='post__title_link').get_text()\n",
    "#             link = post.find(class_='post__title_link').get('href')\n",
    "#             row = {'date': date, 'title': title, 'link': link}\n",
    "#             return row\n",
    "#             word_news = pd.concat([word_news, pd.DataFrame([row])])\n",
    "#             return word_news"
   ]
  },
  {
   "cell_type": "markdown",
   "metadata": {},
   "source": [
    "### Задание 2"
   ]
  },
  {
   "cell_type": "markdown",
   "metadata": {},
   "source": [
    "Написать скрипт, который будет проверять список e-mail адресов на утечку при помощи сервиса Avast Hack Ckeck. Список email-ов задаем переменной в начале кода:\n",
    "EMAIL = [xxx@x.ru, yyy@y.com]\n",
    "\n",
    "В итоге должен формироваться датафрейм со столбцами: <почта> - <дата утечки> - <источник утечки> - <описание утечки>\n",
    "\n",
    "Подсказка: сервис работает при помощи \"скрытого\" API. Внимательно изучите post-запросы.\n"
   ]
  },
  {
   "cell_type": "code",
   "execution_count": 67,
   "metadata": {},
   "outputs": [],
   "source": [
    "EMAIL = [\"ivan@mail.ru\",\"yasha@ya.ru\"]"
   ]
  },
  {
   "cell_type": "code",
   "execution_count": 80,
   "metadata": {},
   "outputs": [],
   "source": [
    "URL = 'https://identityprotection.avast.com/v1/web/query/site-breaches/unauthorized-data'\n",
    "params = {\"emailAddresses\":EMAIL}\n",
    "headers = {'Vaar-Version': '0',\n",
    "'Vaar-Header-App-Build-Version': '1.0.0',\n",
    "'Vaar-Header-App-Product':'hackcheck-web-avast',\n",
    "'Vaar-Header-App-Product-Name':'hackcheck-web-avast'\n",
    "          }\n",
    "\n",
    "req = requests.post(URL, json = params, headers = headers)"
   ]
  },
  {
   "cell_type": "code",
   "execution_count": 50,
   "metadata": {},
   "outputs": [],
   "source": [
    "import json"
   ]
  },
  {
   "cell_type": "code",
   "execution_count": 82,
   "metadata": {},
   "outputs": [],
   "source": [
    "breaches = json.loads(req.text)"
   ]
  },
  {
   "cell_type": "code",
   "execution_count": 140,
   "metadata": {},
   "outputs": [],
   "source": [
    "breaches_dt = pd.DataFrame()\n",
    "for mail, breach in breaches['summary'].items():\n",
    "    for values_breach in breach.values():\n",
    "        for id_breach in values_breach :\n",
    "            dt_mail = mail\n",
    "            id_breachs = str(id_breach) \n",
    "            date = breaches['breaches'][id_breachs]['publishDate']\n",
    "            source = breaches['breaches'][id_breachs]['site']\n",
    "            description = breaches['breaches'][id_breachs]['description']\n",
    "            row = {'email': dt_mail, 'date': date[0:9], 'source': source, 'description': description}\n",
    "            breaches_dt = pd.concat([breaches_dt, pd.DataFrame([row])])\n",
    "    "
   ]
  },
  {
   "cell_type": "code",
   "execution_count": 141,
   "metadata": {},
   "outputs": [
    {
     "data": {
      "text/html": [
       "<div>\n",
       "<style scoped>\n",
       "    .dataframe tbody tr th:only-of-type {\n",
       "        vertical-align: middle;\n",
       "    }\n",
       "\n",
       "    .dataframe tbody tr th {\n",
       "        vertical-align: top;\n",
       "    }\n",
       "\n",
       "    .dataframe thead th {\n",
       "        text-align: right;\n",
       "    }\n",
       "</style>\n",
       "<table border=\"1\" class=\"dataframe\">\n",
       "  <thead>\n",
       "    <tr style=\"text-align: right;\">\n",
       "      <th></th>\n",
       "      <th>email</th>\n",
       "      <th>date</th>\n",
       "      <th>source</th>\n",
       "      <th>description</th>\n",
       "    </tr>\n",
       "  </thead>\n",
       "  <tbody>\n",
       "    <tr>\n",
       "      <th>0</th>\n",
       "      <td>ivan@mail.ru</td>\n",
       "      <td>2020-12-0</td>\n",
       "      <td>ta-bao.com</td>\n",
       "      <td>In November 2020, a collection of over 23,000 ...</td>\n",
       "    </tr>\n",
       "    <tr>\n",
       "      <th>0</th>\n",
       "      <td>ivan@mail.ru</td>\n",
       "      <td>2020-12-0</td>\n",
       "      <td>krym.bazashop.ru</td>\n",
       "      <td>In November 2020, a collection of over 23,000 ...</td>\n",
       "    </tr>\n",
       "    <tr>\n",
       "      <th>0</th>\n",
       "      <td>ivan@mail.ru</td>\n",
       "      <td>2020-12-1</td>\n",
       "      <td>gorod-59.ru</td>\n",
       "      <td>In November 2020, a collection of over 23,000 ...</td>\n",
       "    </tr>\n",
       "    <tr>\n",
       "      <th>0</th>\n",
       "      <td>ivan@mail.ru</td>\n",
       "      <td>2019-03-2</td>\n",
       "      <td>bookmate.com</td>\n",
       "      <td>In July 2018, Bookmate was allegedly breached....</td>\n",
       "    </tr>\n",
       "    <tr>\n",
       "      <th>0</th>\n",
       "      <td>ivan@mail.ru</td>\n",
       "      <td>2019-03-2</td>\n",
       "      <td>roll20.net</td>\n",
       "      <td>In January 2019, Roll20 allegedly breached. Th...</td>\n",
       "    </tr>\n",
       "    <tr>\n",
       "      <th>...</th>\n",
       "      <td>...</td>\n",
       "      <td>...</td>\n",
       "      <td>...</td>\n",
       "      <td>...</td>\n",
       "    </tr>\n",
       "    <tr>\n",
       "      <th>0</th>\n",
       "      <td>ivan@mail.ru</td>\n",
       "      <td>2020-07-1</td>\n",
       "      <td>138gsm.ru</td>\n",
       "      <td>In February 2019, the Russian phone accessorie...</td>\n",
       "    </tr>\n",
       "    <tr>\n",
       "      <th>0</th>\n",
       "      <td>ivan@mail.ru</td>\n",
       "      <td>2020-12-0</td>\n",
       "      <td>vsarapule.ru</td>\n",
       "      <td>In November 2020, a collection of over 23,000 ...</td>\n",
       "    </tr>\n",
       "    <tr>\n",
       "      <th>0</th>\n",
       "      <td>ivan@mail.ru</td>\n",
       "      <td>2020-12-1</td>\n",
       "      <td>befutsal.ru</td>\n",
       "      <td>In November 2020, a collection of over 23,000 ...</td>\n",
       "    </tr>\n",
       "    <tr>\n",
       "      <th>0</th>\n",
       "      <td>ivan@mail.ru</td>\n",
       "      <td>2019-05-2</td>\n",
       "      <td>livejournal.com</td>\n",
       "      <td>In 2017, social network LiveJournal's database...</td>\n",
       "    </tr>\n",
       "    <tr>\n",
       "      <th>0</th>\n",
       "      <td>yasha@ya.ru</td>\n",
       "      <td>2016-10-2</td>\n",
       "      <td>vk.com</td>\n",
       "      <td>Popular Russian social networking platform VKo...</td>\n",
       "    </tr>\n",
       "  </tbody>\n",
       "</table>\n",
       "<p>109 rows × 4 columns</p>\n",
       "</div>"
      ],
      "text/plain": [
       "           email       date            source  \\\n",
       "0   ivan@mail.ru  2020-12-0        ta-bao.com   \n",
       "0   ivan@mail.ru  2020-12-0  krym.bazashop.ru   \n",
       "0   ivan@mail.ru  2020-12-1       gorod-59.ru   \n",
       "0   ivan@mail.ru  2019-03-2      bookmate.com   \n",
       "0   ivan@mail.ru  2019-03-2        roll20.net   \n",
       "..           ...        ...               ...   \n",
       "0   ivan@mail.ru  2020-07-1         138gsm.ru   \n",
       "0   ivan@mail.ru  2020-12-0      vsarapule.ru   \n",
       "0   ivan@mail.ru  2020-12-1       befutsal.ru   \n",
       "0   ivan@mail.ru  2019-05-2   livejournal.com   \n",
       "0    yasha@ya.ru  2016-10-2            vk.com   \n",
       "\n",
       "                                          description  \n",
       "0   In November 2020, a collection of over 23,000 ...  \n",
       "0   In November 2020, a collection of over 23,000 ...  \n",
       "0   In November 2020, a collection of over 23,000 ...  \n",
       "0   In July 2018, Bookmate was allegedly breached....  \n",
       "0   In January 2019, Roll20 allegedly breached. Th...  \n",
       "..                                                ...  \n",
       "0   In February 2019, the Russian phone accessorie...  \n",
       "0   In November 2020, a collection of over 23,000 ...  \n",
       "0   In November 2020, a collection of over 23,000 ...  \n",
       "0   In 2017, social network LiveJournal's database...  \n",
       "0   Popular Russian social networking platform VKo...  \n",
       "\n",
       "[109 rows x 4 columns]"
      ]
     },
     "execution_count": 141,
     "metadata": {},
     "output_type": "execute_result"
    }
   ],
   "source": [
    "breaches_dt"
   ]
  }
 ],
 "metadata": {
  "kernelspec": {
   "display_name": "Python 3",
   "language": "python",
   "name": "python3"
  },
  "language_info": {
   "codemirror_mode": {
    "name": "ipython",
    "version": 3
   },
   "file_extension": ".py",
   "mimetype": "text/x-python",
   "name": "python",
   "nbconvert_exporter": "python",
   "pygments_lexer": "ipython3",
   "version": "3.8.5"
  }
 },
 "nbformat": 4,
 "nbformat_minor": 4
}
