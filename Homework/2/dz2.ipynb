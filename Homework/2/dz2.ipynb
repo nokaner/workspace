{
 "cells": [
  {
   "cell_type": "code",
   "execution_count": 13,
   "metadata": {},
   "outputs": [
    {
     "name": "stdout",
     "output_type": "stream",
     "text": [
      "Cредняя буква: t\n"
     ]
    }
   ],
   "source": [
    "word = 'testing'\n",
    "if (len(word) % 2)> 0:\n",
    "    i= len(word)//2\n",
    "    print('Cредняя буква:', word [i])  \n",
    "else:\n",
    "    i= len(word)//2\n",
    "    print('Cредние буквы:', word [i], word [i+1])     \n",
    "  "
   ]
  },
  {
   "cell_type": "code",
   "execution_count": 50,
   "metadata": {},
   "outputs": [
    {
     "name": "stdout",
     "output_type": "stream",
     "text": [
      "Введите число: 1\n",
      "Введите число: 5\n",
      "Введите число: 789\n",
      "Введите число: 5468\n",
      "Введите число: 0\n",
      "Результат:  6263\n"
     ]
    }
   ],
   "source": [
    "numbers = list()\n",
    "while True:\n",
    "    s = int(input('Введите число: '))\n",
    "    if s > 0 :\n",
    "        numbers.append (s)\n",
    "    elif s == 0:\n",
    "        print('Результат: ', sum(numbers))\n",
    "        numbers.clear ()\n",
    "        break       "
   ]
  },
  {
   "cell_type": "code",
   "execution_count": 108,
   "metadata": {
    "scrolled": true
   },
   "outputs": [
    {
     "name": "stdout",
     "output_type": "stream",
     "text": [
      "Внимание, кто-то может остаться без пары!\n"
     ]
    }
   ],
   "source": [
    "boys = ['Peter', 'Alex', 'John', 'Arthur', 'Richard', 'RichardS']\n",
    "girls = ['Kate', 'Liza', 'Kira', 'Emma', 'Trisha']\n",
    "sort_b = sorted(boys)\n",
    "sort_g = sorted(girls)\n",
    "pairs = list((zip (sort_b, sort_g)))\n",
    "if len(boys) != len (girls):\n",
    "    print('Внимание, кто-то может остаться без пары!')\n",
    "else:\n",
    "    for pp in pairs:\n",
    "        print(f'{pp [0]} и {pp [1]}')\n",
    "    "
   ]
  },
  {
   "cell_type": "code",
   "execution_count": 111,
   "metadata": {},
   "outputs": [
    {
     "name": "stdout",
     "output_type": "stream",
     "text": [
      "Средняя температура в странах:\n",
      " Thailand - 23.9 C\n",
      " Germany - 13.8 C\n",
      " Russia - 3.7 C\n",
      " Poland - 12.0 C\n"
     ]
    }
   ],
   "source": [
    "countries_temperature = [\n",
    "['Thailand', [75.2, 77, 78.8, 73.4, 68, 75.2, 77]],    \n",
    "['Germany', [57.2, 55.4, 59, 59, 53.6]],               \n",
    "['Russia', [35.6, 37.4, 39.2, 41, 42.8, 39.2, 35.6]],  \n",
    "['Poland', [50, 50, 53.6, 57.2, 55.4, 55.4]]             \n",
    "]\n",
    "\n",
    "print('Средняя температура в странах:')\n",
    "for country_name, country_temperature in countries_temperature:\n",
    "    print(f' {country_name} - {(((sum(country_temperature)/len(country_temperature))- 32) * (5/9)):.1f} C')   "
   ]
  },
  {
   "cell_type": "code",
   "execution_count": null,
   "metadata": {},
   "outputs": [],
   "source": []
  }
 ],
 "metadata": {
  "kernelspec": {
   "display_name": "Python 3",
   "language": "python",
   "name": "python3"
  },
  "language_info": {
   "codemirror_mode": {
    "name": "ipython",
    "version": 3
   },
   "file_extension": ".py",
   "mimetype": "text/x-python",
   "name": "python",
   "nbconvert_exporter": "python",
   "pygments_lexer": "ipython3",
   "version": "3.8.5"
  }
 },
 "nbformat": 4,
 "nbformat_minor": 4
}
