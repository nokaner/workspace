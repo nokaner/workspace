{
 "cells": [
  {
   "cell_type": "code",
   "execution_count": 1,
   "metadata": {},
   "outputs": [],
   "source": [
    "import numpy as np"
   ]
  },
  {
   "cell_type": "code",
   "execution_count": 24,
   "metadata": {},
   "outputs": [
    {
     "name": "stdout",
     "output_type": "stream",
     "text": [
      "Количество попыток - 1000000, количество выигрышей - 204611,  вероятность выигрыша - 20.4611 %, средний выигрыш - 0.803052\n"
     ]
    }
   ],
   "source": [
    "trials = 1000000    # Количество попыток\n",
    "successes = 0    # Количество успехов\n",
    "win = 0       # Сумма выигрыша\n",
    "\n",
    "for i in range(trials):\n",
    "    random_score = np.random.randint(0, 1000)    # Случайное количество очков от 1 до 999\n",
    "    if random_score == 999:\n",
    "        successes += 1\n",
    "        win += 100\n",
    "        continue\n",
    "                \n",
    "    if random_score == 777:\n",
    "        successes += 1\n",
    "        win += 200\n",
    "        continue\n",
    "                \n",
    "    if random_score == 555:\n",
    "        successes += 1\n",
    "        win += 50\n",
    "        continue\n",
    "                \n",
    "    if random_score == 333:\n",
    "        successes += 1\n",
    "        win += 15\n",
    "        continue\n",
    "                \n",
    "    if random_score == 111:\n",
    "        successes += 1\n",
    "        win += 10\n",
    "        continue\n",
    "                \n",
    "    if (random_score-77) % 100 == 0:\n",
    "        successes += 1\n",
    "        win += 5\n",
    "        continue\n",
    "            \n",
    "    if (random_score-7) % 10 == 0:\n",
    "        successes += 1\n",
    "        win += 3\n",
    "        continue\n",
    "                \n",
    "    if random_score % 100 == 0:\n",
    "        successes += 1\n",
    "        win += 2\n",
    "        continue\n",
    "            \n",
    "    if random_score % 10 == 0:\n",
    "        successes += 1\n",
    "        win += 1\n",
    "                    \n",
    "p_monte_carlo = successes / trials    # Вероятность из моделирования\n",
    "\n",
    "\n",
    "print(f'Количество попыток - {trials}, количество выигрышей - {successes},  вероятность выигрыша - {p_monte_carlo*100} %, средний выигрыш - {win/trials}')"
   ]
  },
  {
   "cell_type": "code",
   "execution_count": 17,
   "metadata": {},
   "outputs": [
    {
     "data": {
      "text/plain": [
       "20.4"
      ]
     },
     "execution_count": 17,
     "metadata": {},
     "output_type": "execute_result"
    }
   ],
   "source": [
    "# Полная вероятность выигрыша\n",
    "((100*1/1000)*5)+(100*9/1000)+(100*9/100)+(100*1/100)+(100*9/100)"
   ]
  },
  {
   "cell_type": "code",
   "execution_count": 23,
   "metadata": {},
   "outputs": [
    {
     "data": {
      "text/plain": [
       "0.8"
      ]
     },
     "execution_count": 23,
     "metadata": {},
     "output_type": "execute_result"
    }
   ],
   "source": [
    "# Средний выигрыш\n",
    "(1/1000*200)+(1/1000*100)+(1/1000*50)+(1/1000*15)+(1/1000*10)+(9/1000*5)+(9/100*3)+(1/100*2)+(9/100*1)"
   ]
  },
  {
   "cell_type": "markdown",
   "metadata": {},
   "source": [
    "#### Вывод: таким образом, участие в игре не выгодно, в среднем игрок теряет 20 копеек"
   ]
  }
 ],
 "metadata": {
  "kernelspec": {
   "display_name": "Python 3",
   "language": "python",
   "name": "python3"
  },
  "language_info": {
   "codemirror_mode": {
    "name": "ipython",
    "version": 3
   },
   "file_extension": ".py",
   "mimetype": "text/x-python",
   "name": "python",
   "nbconvert_exporter": "python",
   "pygments_lexer": "ipython3",
   "version": "3.8.5"
  }
 },
 "nbformat": 4,
 "nbformat_minor": 4
}
